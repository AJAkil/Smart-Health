{
  "nbformat": 4,
  "nbformat_minor": 0,
  "metadata": {
    "colab": {
      "name": "P1.ipynb",
      "provenance": []
    },
    "kernelspec": {
      "name": "python3",
      "display_name": "Python 3"
    },
    "language_info": {
      "name": "python"
    }
  },
  "cells": [
    {
      "cell_type": "code",
      "metadata": {
        "colab": {
          "base_uri": "https://localhost:8080/"
        },
        "id": "eLgkOhyo14T5",
        "outputId": "211f6ce7-4998-46b2-ce56-ade937d7db65"
      },
      "source": [
        "from google.colab import drive\n",
        "drive.mount('/content/gdrive', force_remount = True)"
      ],
      "execution_count": 1,
      "outputs": [
        {
          "output_type": "stream",
          "name": "stdout",
          "text": [
            "Mounted at /content/gdrive\n"
          ]
        }
      ]
    },
    {
      "cell_type": "code",
      "metadata": {
        "id": "AIVqdI9s2Mfd"
      },
      "source": [
        "import pandas as pd\n",
        "import numpy as np\n",
        "import matplotlib.pyplot as plt\n",
        "\n",
        "from numpy.random import seed\n",
        "from numpy.random import randn\n",
        "from scipy.stats import shapiro, ttest_ind"
      ],
      "execution_count": 2,
      "outputs": []
    },
    {
      "cell_type": "code",
      "metadata": {
        "colab": {
          "base_uri": "https://localhost:8080/",
          "height": 222
        },
        "id": "-QckvlBu2Wjg",
        "outputId": "fba4ce04-b8fd-4375-c383-ee99c4a2f76b"
      },
      "source": [
        "dataset = pd.read_csv('/content/gdrive/MyDrive/Datasets/MLSH-dataset-L1.csv')\n",
        "dataset.head()"
      ],
      "execution_count": 3,
      "outputs": [
        {
          "output_type": "execute_result",
          "data": {
            "text/html": [
              "<div>\n",
              "<style scoped>\n",
              "    .dataframe tbody tr th:only-of-type {\n",
              "        vertical-align: middle;\n",
              "    }\n",
              "\n",
              "    .dataframe tbody tr th {\n",
              "        vertical-align: top;\n",
              "    }\n",
              "\n",
              "    .dataframe thead th {\n",
              "        text-align: right;\n",
              "    }\n",
              "</style>\n",
              "<table border=\"1\" class=\"dataframe\">\n",
              "  <thead>\n",
              "    <tr style=\"text-align: right;\">\n",
              "      <th></th>\n",
              "      <th>Participant</th>\n",
              "      <th>Category</th>\n",
              "      <th>NN_RR</th>\n",
              "      <th>AVNN</th>\n",
              "      <th>IHR</th>\n",
              "      <th>SDNN</th>\n",
              "      <th>SDANN</th>\n",
              "      <th>SDNNIDX</th>\n",
              "      <th>rMSSD</th>\n",
              "      <th>pNN10</th>\n",
              "      <th>pNN20</th>\n",
              "      <th>pNN30</th>\n",
              "      <th>pNN40</th>\n",
              "      <th>pNN50</th>\n",
              "      <th>tot_pwr</th>\n",
              "      <th>ULF</th>\n",
              "      <th>VLF</th>\n",
              "      <th>LF</th>\n",
              "      <th>HF</th>\n",
              "      <th>LF_HF</th>\n",
              "      <th>LF_n</th>\n",
              "      <th>HF_n</th>\n",
              "    </tr>\n",
              "  </thead>\n",
              "  <tbody>\n",
              "    <tr>\n",
              "      <th>0</th>\n",
              "      <td>0</td>\n",
              "      <td>A</td>\n",
              "      <td>0.999970</td>\n",
              "      <td>836.336</td>\n",
              "      <td>71.741501</td>\n",
              "      <td>74.9342</td>\n",
              "      <td>45.5641</td>\n",
              "      <td>55.4628</td>\n",
              "      <td>25.1387</td>\n",
              "      <td>61.3931</td>\n",
              "      <td>29.6775</td>\n",
              "      <td>16.4170</td>\n",
              "      <td>6.17343</td>\n",
              "      <td>3.44122</td>\n",
              "      <td>5852.65</td>\n",
              "      <td>2675.950</td>\n",
              "      <td>2082.66</td>\n",
              "      <td>847.965</td>\n",
              "      <td>246.077</td>\n",
              "      <td>3.44593</td>\n",
              "      <td>0.775075</td>\n",
              "      <td>0.224925</td>\n",
              "    </tr>\n",
              "    <tr>\n",
              "      <th>1</th>\n",
              "      <td>1</td>\n",
              "      <td>A</td>\n",
              "      <td>0.999680</td>\n",
              "      <td>980.794</td>\n",
              "      <td>61.174926</td>\n",
              "      <td>86.4631</td>\n",
              "      <td>57.3369</td>\n",
              "      <td>55.6853</td>\n",
              "      <td>26.9386</td>\n",
              "      <td>60.9649</td>\n",
              "      <td>26.4666</td>\n",
              "      <td>14.1151</td>\n",
              "      <td>6.12600</td>\n",
              "      <td>3.87186</td>\n",
              "      <td>8793.63</td>\n",
              "      <td>4467.600</td>\n",
              "      <td>3145.01</td>\n",
              "      <td>985.214</td>\n",
              "      <td>195.798</td>\n",
              "      <td>5.03179</td>\n",
              "      <td>0.834212</td>\n",
              "      <td>0.165788</td>\n",
              "    </tr>\n",
              "    <tr>\n",
              "      <th>2</th>\n",
              "      <td>2</td>\n",
              "      <td>A</td>\n",
              "      <td>0.993108</td>\n",
              "      <td>1000.260</td>\n",
              "      <td>59.984404</td>\n",
              "      <td>59.7562</td>\n",
              "      <td>32.5391</td>\n",
              "      <td>47.8997</td>\n",
              "      <td>31.0587</td>\n",
              "      <td>59.4547</td>\n",
              "      <td>29.5596</td>\n",
              "      <td>19.1820</td>\n",
              "      <td>10.53270</td>\n",
              "      <td>7.39094</td>\n",
              "      <td>3723.20</td>\n",
              "      <td>1336.050</td>\n",
              "      <td>1322.78</td>\n",
              "      <td>802.306</td>\n",
              "      <td>262.058</td>\n",
              "      <td>3.06156</td>\n",
              "      <td>0.753789</td>\n",
              "      <td>0.246211</td>\n",
              "    </tr>\n",
              "    <tr>\n",
              "      <th>3</th>\n",
              "      <td>3</td>\n",
              "      <td>A</td>\n",
              "      <td>0.959997</td>\n",
              "      <td>787.438</td>\n",
              "      <td>76.196475</td>\n",
              "      <td>59.2220</td>\n",
              "      <td>27.0160</td>\n",
              "      <td>39.2539</td>\n",
              "      <td>43.5362</td>\n",
              "      <td>29.7286</td>\n",
              "      <td>13.7209</td>\n",
              "      <td>12.5419</td>\n",
              "      <td>11.46800</td>\n",
              "      <td>10.68200</td>\n",
              "      <td>2813.47</td>\n",
              "      <td>761.872</td>\n",
              "      <td>1339.35</td>\n",
              "      <td>361.275</td>\n",
              "      <td>350.971</td>\n",
              "      <td>1.02936</td>\n",
              "      <td>0.507233</td>\n",
              "      <td>0.492767</td>\n",
              "    </tr>\n",
              "    <tr>\n",
              "      <th>4</th>\n",
              "      <td>4</td>\n",
              "      <td>B</td>\n",
              "      <td>0.999689</td>\n",
              "      <td>973.366</td>\n",
              "      <td>61.641767</td>\n",
              "      <td>117.9690</td>\n",
              "      <td>67.9543</td>\n",
              "      <td>89.0453</td>\n",
              "      <td>73.9128</td>\n",
              "      <td>86.7052</td>\n",
              "      <td>72.8064</td>\n",
              "      <td>63.7922</td>\n",
              "      <td>51.80280</td>\n",
              "      <td>44.24510</td>\n",
              "      <td>14734.80</td>\n",
              "      <td>6590.450</td>\n",
              "      <td>4729.39</td>\n",
              "      <td>2354.480</td>\n",
              "      <td>1060.520</td>\n",
              "      <td>2.22012</td>\n",
              "      <td>0.689452</td>\n",
              "      <td>0.310548</td>\n",
              "    </tr>\n",
              "  </tbody>\n",
              "</table>\n",
              "</div>"
            ],
            "text/plain": [
              "   Participant Category     NN_RR  ...    LF_HF      LF_n      HF_n\n",
              "0            0        A  0.999970  ...  3.44593  0.775075  0.224925\n",
              "1            1        A  0.999680  ...  5.03179  0.834212  0.165788\n",
              "2            2        A  0.993108  ...  3.06156  0.753789  0.246211\n",
              "3            3        A  0.959997  ...  1.02936  0.507233  0.492767\n",
              "4            4        B  0.999689  ...  2.22012  0.689452  0.310548\n",
              "\n",
              "[5 rows x 22 columns]"
            ]
          },
          "metadata": {},
          "execution_count": 3
        }
      ]
    },
    {
      "cell_type": "code",
      "metadata": {
        "id": "lCUB_t-9BiBj"
      },
      "source": [
        "dataA= dataset.IHR[dataset['Category']== 'A']\n",
        "dataB= dataset.IHR[dataset['Category']== 'B']"
      ],
      "execution_count": 4,
      "outputs": []
    },
    {
      "cell_type": "code",
      "metadata": {
        "id": "avOPqsWKAxpj"
      },
      "source": [
        "def check_norm(a):\n",
        "  stat, p = shapiro(a)\n",
        "  if p>0.05:\n",
        "    print(p, 'Fail to reject H0, It looks like Normal distribution')\n",
        "  else:\n",
        "    print(p, 'Reject H0, It is not like Normal distribution')"
      ],
      "execution_count": 5,
      "outputs": []
    },
    {
      "cell_type": "code",
      "metadata": {
        "colab": {
          "base_uri": "https://localhost:8080/"
        },
        "id": "d9uGUM1MAT4c",
        "outputId": "0fe6bf2a-c05c-4f57-9b86-2561ddf52100"
      },
      "source": [
        "# Is Categorical A is normal distribution with IHR\n",
        "check_norm(dataA)"
      ],
      "execution_count": 6,
      "outputs": [
        {
          "output_type": "stream",
          "name": "stdout",
          "text": [
            "7.588713742734399e-06 Reject H0, It is not like Normal distribution\n"
          ]
        }
      ]
    },
    {
      "cell_type": "code",
      "metadata": {
        "colab": {
          "base_uri": "https://localhost:8080/"
        },
        "id": "xzTZArL0BUhT",
        "outputId": "764ec359-884b-4719-e4bb-f49cf58c178a"
      },
      "source": [
        "# Is Categorical A is normal distribution with IHR\n",
        "check_norm(dataB)"
      ],
      "execution_count": 7,
      "outputs": [
        {
          "output_type": "stream",
          "name": "stdout",
          "text": [
            "0.030753672122955322 Reject H0, It is not like Normal distribution\n"
          ]
        }
      ]
    },
    {
      "cell_type": "code",
      "metadata": {
        "colab": {
          "base_uri": "https://localhost:8080/"
        },
        "id": "pfEEMHEAB4IM",
        "outputId": "adc6705a-8c91-4660-8cc2-09ccce7ed8ac"
      },
      "source": [
        "print(np.mean(dataA),np.median(dataA))\n",
        "print(np.mean(dataB),np.median(dataB))"
      ],
      "execution_count": 8,
      "outputs": [
        {
          "output_type": "stream",
          "name": "stdout",
          "text": [
            "63.02048112202832 62.646861845\n",
            "64.01073590869565 62.29636874\n"
          ]
        }
      ]
    },
    {
      "cell_type": "code",
      "metadata": {
        "colab": {
          "base_uri": "https://localhost:8080/"
        },
        "id": "gEjXg-Rq3YQO",
        "outputId": "96e00a4a-2346-4f1b-c68a-5d4f2e1d94fb"
      },
      "source": [
        "if np.mean(dataA) < np.median(dataA):\n",
        "  print('Categorical A has the distribution that Skewed to the left')\n",
        "else:\n",
        "  print('Categorical A has the distribution that Skewed to the right')\n",
        "\n",
        "if np.mean(dataB) < np.median(dataB):\n",
        "  print('Categorical B has the distribution that Skewed to the left')\n",
        "else:\n",
        "  print('Categorical B has the distribution that Skewed to the right')"
      ],
      "execution_count": 9,
      "outputs": [
        {
          "output_type": "stream",
          "name": "stdout",
          "text": [
            "Categorical A has the distribution that Skewed to the right\n",
            "Categorical B has the distribution that Skewed to the right\n"
          ]
        }
      ]
    },
    {
      "cell_type": "code",
      "metadata": {
        "colab": {
          "base_uri": "https://localhost:8080/",
          "height": 383
        },
        "id": "UlK6j2hH82pb",
        "outputId": "3b261aa3-8a01-4f65-9d52-1b76215d07d0"
      },
      "source": [
        "fig, axs = plt.subplots(2,1)\n",
        "fig.suptitle('Category A vs Category B')\n",
        "axs[0].hist(dataA)\n",
        "axs[1].hist(dataB)\n"
      ],
      "execution_count": 10,
      "outputs": [
        {
          "output_type": "execute_result",
          "data": {
            "text/plain": [
              "(array([ 4.,  3., 13., 17., 11.,  9.,  4.,  2.,  4.,  2.]),\n",
              " array([44.57685421, 49.24467183, 53.91248945, 58.58030708, 63.2481247 ,\n",
              "        67.91594232, 72.58375994, 77.25157756, 81.91939519, 86.58721281,\n",
              "        91.25503043]),\n",
              " <a list of 10 Patch objects>)"
            ]
          },
          "metadata": {},
          "execution_count": 10
        },
        {
          "output_type": "display_data",
          "data": {
            "image/png": "[encoded data removed]",
            "text/plain": [
              "<Figure size 432x288 with 2 Axes>"
            ]
          },
          "metadata": {
            "needs_background": "light"
          }
        }
      ]
    },
    {
      "cell_type": "code",
      "metadata": {
        "colab": {
          "base_uri": "https://localhost:8080/"
        },
        "id": "ZaKH4UHO-knV",
        "outputId": "e2dfc630-e590-47fd-b5a1-b757e5ee34e2"
      },
      "source": [
        "## Check 2 dataset to find if there is any significant difference between the groups\n",
        "stat, p = ttest_ind(dataA,dataB)\n",
        "if p>0.05:\n",
        "  print('There is not enough evidence to reject H0, there is no difference between the groups')\n",
        "else:\n",
        "  print('There is significant evidence to reject H0, there is difference between the groups')"
      ],
      "execution_count": 11,
      "outputs": [
        {
          "output_type": "stream",
          "name": "stdout",
          "text": [
            "There is not enough evidence to reject H0, there is no difference between the groups\n"
          ]
        }
      ]
    }
  ]
}