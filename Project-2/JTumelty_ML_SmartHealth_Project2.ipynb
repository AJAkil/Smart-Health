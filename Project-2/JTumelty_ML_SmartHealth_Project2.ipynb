{
  "nbformat": 4,
  "nbformat_minor": 0,
  "metadata": {
    "colab": {
      "name": "JTumelty_ML_SmartHealth_Project2.ipynb",
      "provenance": [],
      "collapsed_sections": [],
      "authorship_tag": "ABX9TyOSn5FHctjuQT0G92K0aIJX",
      "include_colab_link": true
    },
    "kernelspec": {
      "display_name": "Python 3",
      "name": "python3"
    },
    "language_info": {
      "name": "python"
    }
  },
  "cells": [
    {
      "cell_type": "markdown",
      "metadata": {
        "id": "view-in-github",
        "colab_type": "text"
      },
      "source": [
        "<a href=\"https://colab.research.google.com/github/JTumelty/Smart-Health/blob/main/Project-2/JTumelty_ML_SmartHealth_Project2.ipynb\" target=\"_parent\"><img src=\"https://colab.research.google.com/assets/colab-badge.svg\" alt=\"Open In Colab\"/></a>"
      ]
    },
    {
      "cell_type": "markdown",
      "metadata": {
        "id": "fuR0mJx_hF3F"
      },
      "source": [
        "# Project 2\n",
        "## Instructions:\n",
        "\n",
        "\n",
        "1.   Select a heart disease database (e.g. MIT-BIH Arrhythmia Database) from Physionet and read the dataset descriptions to identify the beat types (N,V,S,F,Q).\n",
        "2.   The dataset has been processed and prepared for you and is available at https://drive.google.com/drive/folders/159WV3PR3x5vpWwbbsjCXK5k4tgaNn0Ut?usp=sharing\n",
        "3. Train your machine learning models on the train set (mitbih_train)\n",
        "4. Evaluate your model on the test set (mitbih_test)\n",
        "5. Identify/ rank the important features (optional)\n",
        "6. Upload/Pull request your notebook on Smart Health course Github Project-2 branch.\n",
        "\n"
      ]
    },
    {
      "cell_type": "markdown",
      "metadata": {
        "id": "vHnUhfCeiKPQ"
      },
      "source": [
        "## Part 1\n",
        "From https://archive.physionet.org/physiobank/database/html/mitdbdir/intro.htm#annotations, we can interpret the different types of beats via\n",
        "\n",
        "*   N: Normal beat (0)\n",
        "*   V: Premature ventricular contraction (1)\n",
        "*   S: Supraventricular premature beat (2)\n",
        "*   F: Fusion of ventricular and normal beat (3)\n",
        "*   Q: Unclassifiable beat (4)\n",
        "\n"
      ]
    },
    {
      "cell_type": "markdown",
      "metadata": {
        "id": "F7u2QFOZjbW8"
      },
      "source": [
        "# Part 2\n",
        "Download the processed dataset from https://drive.google.com/drive/folders/159WV3PR3x5vpWwbbsjCXK5k4tgaNn0Ut?usp=sharing.\n"
      ]
    },
    {
      "cell_type": "code",
      "metadata": {
        "id": "R35CktiLg4VK"
      },
      "source": [
        "# Use code from: https://towardsdatascience.com/3-ways-to-load-csv-files-into-colab-7c14fcbdcb92\n",
        "# to access data from Google Drive in this notebook.\n",
        "!pip install -U -q PyDrive\n",
        "from pydrive.auth import GoogleAuth\n",
        "from pydrive.drive import GoogleDrive\n",
        "from google.colab import auth\n",
        "from oauth2client.client import GoogleCredentials# Authenticate and create the PyDrive client.\n",
        "auth.authenticate_user()\n",
        "gauth = GoogleAuth()\n",
        "gauth.credentials = GoogleCredentials.get_application_default()\n",
        "drive = GoogleDrive(gauth)"
      ],
      "execution_count": 1,
      "outputs": []
    },
    {
      "cell_type": "code",
      "metadata": {
        "colab": {
          "base_uri": "https://localhost:8080/",
          "height": 256
        },
        "id": "NXZjyl4SkhF3",
        "outputId": "fca530e0-c006-463d-d786-b96cec1502b6"
      },
      "source": [
        "# Download training data\n",
        "import pandas as pd\n",
        "train_id = '1RU-2LylB_GyZQGEYSnJG8kKYv_z6nPDF'\n",
        "downloaded = drive.CreateFile({'id':train_id}) \n",
        "downloaded.GetContentFile('mitbih_train.csv')  \n",
        "train = pd.read_csv('mitbih_train.csv', header=None)\n",
        "train.head()\n"
      ],
      "execution_count": 2,
      "outputs": [
        {
          "output_type": "execute_result",
          "data": {
            "text/html": [
              "<div>\n",
              "<style scoped>\n",
              "    .dataframe tbody tr th:only-of-type {\n",
              "        vertical-align: middle;\n",
              "    }\n",
              "\n",
              "    .dataframe tbody tr th {\n",
              "        vertical-align: top;\n",
              "    }\n",
              "\n",
              "    .dataframe thead th {\n",
              "        text-align: right;\n",
              "    }\n",
              "</style>\n",
              "<table border=\"1\" class=\"dataframe\">\n",
              "  <thead>\n",
              "    <tr style=\"text-align: right;\">\n",
              "      <th></th>\n",
              "      <th>0</th>\n",
              "      <th>1</th>\n",
              "      <th>2</th>\n",
              "      <th>3</th>\n",
              "      <th>4</th>\n",
              "      <th>5</th>\n",
              "      <th>6</th>\n",
              "      <th>7</th>\n",
              "      <th>8</th>\n",
              "      <th>9</th>\n",
              "      <th>10</th>\n",
              "      <th>11</th>\n",
              "      <th>12</th>\n",
              "      <th>13</th>\n",
              "      <th>14</th>\n",
              "      <th>15</th>\n",
              "      <th>16</th>\n",
              "      <th>17</th>\n",
              "      <th>18</th>\n",
              "      <th>19</th>\n",
              "      <th>20</th>\n",
              "      <th>21</th>\n",
              "      <th>22</th>\n",
              "      <th>23</th>\n",
              "      <th>24</th>\n",
              "      <th>25</th>\n",
              "      <th>26</th>\n",
              "      <th>27</th>\n",
              "      <th>28</th>\n",
              "      <th>29</th>\n",
              "      <th>30</th>\n",
              "      <th>31</th>\n",
              "      <th>32</th>\n",
              "      <th>33</th>\n",
              "      <th>34</th>\n",
              "      <th>35</th>\n",
              "      <th>36</th>\n",
              "      <th>37</th>\n",
              "      <th>38</th>\n",
              "      <th>39</th>\n",
              "      <th>...</th>\n",
              "      <th>148</th>\n",
              "      <th>149</th>\n",
              "      <th>150</th>\n",
              "      <th>151</th>\n",
              "      <th>152</th>\n",
              "      <th>153</th>\n",
              "      <th>154</th>\n",
              "      <th>155</th>\n",
              "      <th>156</th>\n",
              "      <th>157</th>\n",
              "      <th>158</th>\n",
              "      <th>159</th>\n",
              "      <th>160</th>\n",
              "      <th>161</th>\n",
              "      <th>162</th>\n",
              "      <th>163</th>\n",
              "      <th>164</th>\n",
              "      <th>165</th>\n",
              "      <th>166</th>\n",
              "      <th>167</th>\n",
              "      <th>168</th>\n",
              "      <th>169</th>\n",
              "      <th>170</th>\n",
              "      <th>171</th>\n",
              "      <th>172</th>\n",
              "      <th>173</th>\n",
              "      <th>174</th>\n",
              "      <th>175</th>\n",
              "      <th>176</th>\n",
              "      <th>177</th>\n",
              "      <th>178</th>\n",
              "      <th>179</th>\n",
              "      <th>180</th>\n",
              "      <th>181</th>\n",
              "      <th>182</th>\n",
              "      <th>183</th>\n",
              "      <th>184</th>\n",
              "      <th>185</th>\n",
              "      <th>186</th>\n",
              "      <th>187</th>\n",
              "    </tr>\n",
              "  </thead>\n",
              "  <tbody>\n",
              "    <tr>\n",
              "      <th>0</th>\n",
              "      <td>0.977941</td>\n",
              "      <td>0.926471</td>\n",
              "      <td>0.681373</td>\n",
              "      <td>0.245098</td>\n",
              "      <td>0.154412</td>\n",
              "      <td>0.191176</td>\n",
              "      <td>0.151961</td>\n",
              "      <td>0.085784</td>\n",
              "      <td>0.058824</td>\n",
              "      <td>0.049020</td>\n",
              "      <td>0.044118</td>\n",
              "      <td>0.061275</td>\n",
              "      <td>0.066176</td>\n",
              "      <td>0.061275</td>\n",
              "      <td>0.049020</td>\n",
              "      <td>0.073529</td>\n",
              "      <td>0.061275</td>\n",
              "      <td>0.061275</td>\n",
              "      <td>0.066176</td>\n",
              "      <td>0.068627</td>\n",
              "      <td>0.095588</td>\n",
              "      <td>0.075980</td>\n",
              "      <td>0.093137</td>\n",
              "      <td>0.105392</td>\n",
              "      <td>0.115196</td>\n",
              "      <td>0.102941</td>\n",
              "      <td>0.117647</td>\n",
              "      <td>0.125000</td>\n",
              "      <td>0.142157</td>\n",
              "      <td>0.127451</td>\n",
              "      <td>0.151961</td>\n",
              "      <td>0.144608</td>\n",
              "      <td>0.164216</td>\n",
              "      <td>0.144608</td>\n",
              "      <td>0.159314</td>\n",
              "      <td>0.151961</td>\n",
              "      <td>0.154412</td>\n",
              "      <td>0.142157</td>\n",
              "      <td>0.151961</td>\n",
              "      <td>0.151961</td>\n",
              "      <td>...</td>\n",
              "      <td>0.0</td>\n",
              "      <td>0.0</td>\n",
              "      <td>0.0</td>\n",
              "      <td>0.0</td>\n",
              "      <td>0.0</td>\n",
              "      <td>0.0</td>\n",
              "      <td>0.0</td>\n",
              "      <td>0.0</td>\n",
              "      <td>0.0</td>\n",
              "      <td>0.0</td>\n",
              "      <td>0.0</td>\n",
              "      <td>0.0</td>\n",
              "      <td>0.0</td>\n",
              "      <td>0.0</td>\n",
              "      <td>0.0</td>\n",
              "      <td>0.0</td>\n",
              "      <td>0.0</td>\n",
              "      <td>0.0</td>\n",
              "      <td>0.0</td>\n",
              "      <td>0.0</td>\n",
              "      <td>0.0</td>\n",
              "      <td>0.0</td>\n",
              "      <td>0.0</td>\n",
              "      <td>0.0</td>\n",
              "      <td>0.0</td>\n",
              "      <td>0.0</td>\n",
              "      <td>0.0</td>\n",
              "      <td>0.0</td>\n",
              "      <td>0.0</td>\n",
              "      <td>0.0</td>\n",
              "      <td>0.0</td>\n",
              "      <td>0.0</td>\n",
              "      <td>0.0</td>\n",
              "      <td>0.0</td>\n",
              "      <td>0.0</td>\n",
              "      <td>0.0</td>\n",
              "      <td>0.0</td>\n",
              "      <td>0.0</td>\n",
              "      <td>0.0</td>\n",
              "      <td>0.0</td>\n",
              "    </tr>\n",
              "    <tr>\n",
              "      <th>1</th>\n",
              "      <td>0.960114</td>\n",
              "      <td>0.863248</td>\n",
              "      <td>0.461538</td>\n",
              "      <td>0.196581</td>\n",
              "      <td>0.094017</td>\n",
              "      <td>0.125356</td>\n",
              "      <td>0.099715</td>\n",
              "      <td>0.088319</td>\n",
              "      <td>0.074074</td>\n",
              "      <td>0.082621</td>\n",
              "      <td>0.074074</td>\n",
              "      <td>0.062678</td>\n",
              "      <td>0.065527</td>\n",
              "      <td>0.065527</td>\n",
              "      <td>0.062678</td>\n",
              "      <td>0.076923</td>\n",
              "      <td>0.071225</td>\n",
              "      <td>0.082621</td>\n",
              "      <td>0.091168</td>\n",
              "      <td>0.096866</td>\n",
              "      <td>0.082621</td>\n",
              "      <td>0.082621</td>\n",
              "      <td>0.091168</td>\n",
              "      <td>0.105413</td>\n",
              "      <td>0.122507</td>\n",
              "      <td>0.148148</td>\n",
              "      <td>0.182336</td>\n",
              "      <td>0.193732</td>\n",
              "      <td>0.213675</td>\n",
              "      <td>0.207977</td>\n",
              "      <td>0.222222</td>\n",
              "      <td>0.253561</td>\n",
              "      <td>0.270655</td>\n",
              "      <td>0.287749</td>\n",
              "      <td>0.284900</td>\n",
              "      <td>0.293447</td>\n",
              "      <td>0.256410</td>\n",
              "      <td>0.247863</td>\n",
              "      <td>0.188034</td>\n",
              "      <td>0.145299</td>\n",
              "      <td>...</td>\n",
              "      <td>0.0</td>\n",
              "      <td>0.0</td>\n",
              "      <td>0.0</td>\n",
              "      <td>0.0</td>\n",
              "      <td>0.0</td>\n",
              "      <td>0.0</td>\n",
              "      <td>0.0</td>\n",
              "      <td>0.0</td>\n",
              "      <td>0.0</td>\n",
              "      <td>0.0</td>\n",
              "      <td>0.0</td>\n",
              "      <td>0.0</td>\n",
              "      <td>0.0</td>\n",
              "      <td>0.0</td>\n",
              "      <td>0.0</td>\n",
              "      <td>0.0</td>\n",
              "      <td>0.0</td>\n",
              "      <td>0.0</td>\n",
              "      <td>0.0</td>\n",
              "      <td>0.0</td>\n",
              "      <td>0.0</td>\n",
              "      <td>0.0</td>\n",
              "      <td>0.0</td>\n",
              "      <td>0.0</td>\n",
              "      <td>0.0</td>\n",
              "      <td>0.0</td>\n",
              "      <td>0.0</td>\n",
              "      <td>0.0</td>\n",
              "      <td>0.0</td>\n",
              "      <td>0.0</td>\n",
              "      <td>0.0</td>\n",
              "      <td>0.0</td>\n",
              "      <td>0.0</td>\n",
              "      <td>0.0</td>\n",
              "      <td>0.0</td>\n",
              "      <td>0.0</td>\n",
              "      <td>0.0</td>\n",
              "      <td>0.0</td>\n",
              "      <td>0.0</td>\n",
              "      <td>0.0</td>\n",
              "    </tr>\n",
              "    <tr>\n",
              "      <th>2</th>\n",
              "      <td>1.000000</td>\n",
              "      <td>0.659459</td>\n",
              "      <td>0.186486</td>\n",
              "      <td>0.070270</td>\n",
              "      <td>0.070270</td>\n",
              "      <td>0.059459</td>\n",
              "      <td>0.056757</td>\n",
              "      <td>0.043243</td>\n",
              "      <td>0.054054</td>\n",
              "      <td>0.045946</td>\n",
              "      <td>0.056757</td>\n",
              "      <td>0.043243</td>\n",
              "      <td>0.067568</td>\n",
              "      <td>0.062162</td>\n",
              "      <td>0.078378</td>\n",
              "      <td>0.072973</td>\n",
              "      <td>0.086486</td>\n",
              "      <td>0.081081</td>\n",
              "      <td>0.108108</td>\n",
              "      <td>0.110811</td>\n",
              "      <td>0.135135</td>\n",
              "      <td>0.135135</td>\n",
              "      <td>0.170270</td>\n",
              "      <td>0.183784</td>\n",
              "      <td>0.216216</td>\n",
              "      <td>0.237838</td>\n",
              "      <td>0.270270</td>\n",
              "      <td>0.286486</td>\n",
              "      <td>0.316216</td>\n",
              "      <td>0.318919</td>\n",
              "      <td>0.332432</td>\n",
              "      <td>0.297297</td>\n",
              "      <td>0.267568</td>\n",
              "      <td>0.216216</td>\n",
              "      <td>0.189189</td>\n",
              "      <td>0.132432</td>\n",
              "      <td>0.118919</td>\n",
              "      <td>0.064865</td>\n",
              "      <td>0.064865</td>\n",
              "      <td>0.043243</td>\n",
              "      <td>...</td>\n",
              "      <td>0.0</td>\n",
              "      <td>0.0</td>\n",
              "      <td>0.0</td>\n",
              "      <td>0.0</td>\n",
              "      <td>0.0</td>\n",
              "      <td>0.0</td>\n",
              "      <td>0.0</td>\n",
              "      <td>0.0</td>\n",
              "      <td>0.0</td>\n",
              "      <td>0.0</td>\n",
              "      <td>0.0</td>\n",
              "      <td>0.0</td>\n",
              "      <td>0.0</td>\n",
              "      <td>0.0</td>\n",
              "      <td>0.0</td>\n",
              "      <td>0.0</td>\n",
              "      <td>0.0</td>\n",
              "      <td>0.0</td>\n",
              "      <td>0.0</td>\n",
              "      <td>0.0</td>\n",
              "      <td>0.0</td>\n",
              "      <td>0.0</td>\n",
              "      <td>0.0</td>\n",
              "      <td>0.0</td>\n",
              "      <td>0.0</td>\n",
              "      <td>0.0</td>\n",
              "      <td>0.0</td>\n",
              "      <td>0.0</td>\n",
              "      <td>0.0</td>\n",
              "      <td>0.0</td>\n",
              "      <td>0.0</td>\n",
              "      <td>0.0</td>\n",
              "      <td>0.0</td>\n",
              "      <td>0.0</td>\n",
              "      <td>0.0</td>\n",
              "      <td>0.0</td>\n",
              "      <td>0.0</td>\n",
              "      <td>0.0</td>\n",
              "      <td>0.0</td>\n",
              "      <td>0.0</td>\n",
              "    </tr>\n",
              "    <tr>\n",
              "      <th>3</th>\n",
              "      <td>0.925414</td>\n",
              "      <td>0.665746</td>\n",
              "      <td>0.541436</td>\n",
              "      <td>0.276243</td>\n",
              "      <td>0.196133</td>\n",
              "      <td>0.077348</td>\n",
              "      <td>0.071823</td>\n",
              "      <td>0.060773</td>\n",
              "      <td>0.066298</td>\n",
              "      <td>0.058011</td>\n",
              "      <td>0.063536</td>\n",
              "      <td>0.082873</td>\n",
              "      <td>0.085635</td>\n",
              "      <td>0.093923</td>\n",
              "      <td>0.113260</td>\n",
              "      <td>0.124309</td>\n",
              "      <td>0.140884</td>\n",
              "      <td>0.132597</td>\n",
              "      <td>0.140884</td>\n",
              "      <td>0.091160</td>\n",
              "      <td>0.085635</td>\n",
              "      <td>0.074586</td>\n",
              "      <td>0.071823</td>\n",
              "      <td>0.080110</td>\n",
              "      <td>0.096685</td>\n",
              "      <td>0.118785</td>\n",
              "      <td>0.138122</td>\n",
              "      <td>0.140884</td>\n",
              "      <td>0.138122</td>\n",
              "      <td>0.146409</td>\n",
              "      <td>0.110497</td>\n",
              "      <td>0.102210</td>\n",
              "      <td>0.060773</td>\n",
              "      <td>0.027624</td>\n",
              "      <td>0.038674</td>\n",
              "      <td>0.013812</td>\n",
              "      <td>0.011050</td>\n",
              "      <td>0.013812</td>\n",
              "      <td>0.033149</td>\n",
              "      <td>0.005525</td>\n",
              "      <td>...</td>\n",
              "      <td>0.0</td>\n",
              "      <td>0.0</td>\n",
              "      <td>0.0</td>\n",
              "      <td>0.0</td>\n",
              "      <td>0.0</td>\n",
              "      <td>0.0</td>\n",
              "      <td>0.0</td>\n",
              "      <td>0.0</td>\n",
              "      <td>0.0</td>\n",
              "      <td>0.0</td>\n",
              "      <td>0.0</td>\n",
              "      <td>0.0</td>\n",
              "      <td>0.0</td>\n",
              "      <td>0.0</td>\n",
              "      <td>0.0</td>\n",
              "      <td>0.0</td>\n",
              "      <td>0.0</td>\n",
              "      <td>0.0</td>\n",
              "      <td>0.0</td>\n",
              "      <td>0.0</td>\n",
              "      <td>0.0</td>\n",
              "      <td>0.0</td>\n",
              "      <td>0.0</td>\n",
              "      <td>0.0</td>\n",
              "      <td>0.0</td>\n",
              "      <td>0.0</td>\n",
              "      <td>0.0</td>\n",
              "      <td>0.0</td>\n",
              "      <td>0.0</td>\n",
              "      <td>0.0</td>\n",
              "      <td>0.0</td>\n",
              "      <td>0.0</td>\n",
              "      <td>0.0</td>\n",
              "      <td>0.0</td>\n",
              "      <td>0.0</td>\n",
              "      <td>0.0</td>\n",
              "      <td>0.0</td>\n",
              "      <td>0.0</td>\n",
              "      <td>0.0</td>\n",
              "      <td>0.0</td>\n",
              "    </tr>\n",
              "    <tr>\n",
              "      <th>4</th>\n",
              "      <td>0.967136</td>\n",
              "      <td>1.000000</td>\n",
              "      <td>0.830986</td>\n",
              "      <td>0.586854</td>\n",
              "      <td>0.356808</td>\n",
              "      <td>0.248826</td>\n",
              "      <td>0.145540</td>\n",
              "      <td>0.089202</td>\n",
              "      <td>0.117371</td>\n",
              "      <td>0.150235</td>\n",
              "      <td>0.131455</td>\n",
              "      <td>0.122066</td>\n",
              "      <td>0.140845</td>\n",
              "      <td>0.159624</td>\n",
              "      <td>0.150235</td>\n",
              "      <td>0.145540</td>\n",
              "      <td>0.136150</td>\n",
              "      <td>0.169014</td>\n",
              "      <td>0.178404</td>\n",
              "      <td>0.173709</td>\n",
              "      <td>0.183099</td>\n",
              "      <td>0.201878</td>\n",
              "      <td>0.187793</td>\n",
              "      <td>0.164319</td>\n",
              "      <td>0.187793</td>\n",
              "      <td>0.215962</td>\n",
              "      <td>0.215962</td>\n",
              "      <td>0.201878</td>\n",
              "      <td>0.211268</td>\n",
              "      <td>0.230047</td>\n",
              "      <td>0.215962</td>\n",
              "      <td>0.230047</td>\n",
              "      <td>0.239437</td>\n",
              "      <td>0.267606</td>\n",
              "      <td>0.253521</td>\n",
              "      <td>0.230047</td>\n",
              "      <td>0.220657</td>\n",
              "      <td>0.225352</td>\n",
              "      <td>0.211268</td>\n",
              "      <td>0.173709</td>\n",
              "      <td>...</td>\n",
              "      <td>0.0</td>\n",
              "      <td>0.0</td>\n",
              "      <td>0.0</td>\n",
              "      <td>0.0</td>\n",
              "      <td>0.0</td>\n",
              "      <td>0.0</td>\n",
              "      <td>0.0</td>\n",
              "      <td>0.0</td>\n",
              "      <td>0.0</td>\n",
              "      <td>0.0</td>\n",
              "      <td>0.0</td>\n",
              "      <td>0.0</td>\n",
              "      <td>0.0</td>\n",
              "      <td>0.0</td>\n",
              "      <td>0.0</td>\n",
              "      <td>0.0</td>\n",
              "      <td>0.0</td>\n",
              "      <td>0.0</td>\n",
              "      <td>0.0</td>\n",
              "      <td>0.0</td>\n",
              "      <td>0.0</td>\n",
              "      <td>0.0</td>\n",
              "      <td>0.0</td>\n",
              "      <td>0.0</td>\n",
              "      <td>0.0</td>\n",
              "      <td>0.0</td>\n",
              "      <td>0.0</td>\n",
              "      <td>0.0</td>\n",
              "      <td>0.0</td>\n",
              "      <td>0.0</td>\n",
              "      <td>0.0</td>\n",
              "      <td>0.0</td>\n",
              "      <td>0.0</td>\n",
              "      <td>0.0</td>\n",
              "      <td>0.0</td>\n",
              "      <td>0.0</td>\n",
              "      <td>0.0</td>\n",
              "      <td>0.0</td>\n",
              "      <td>0.0</td>\n",
              "      <td>0.0</td>\n",
              "    </tr>\n",
              "  </tbody>\n",
              "</table>\n",
              "<p>5 rows × 188 columns</p>\n",
              "</div>"
            ],
            "text/plain": [
              "        0         1         2         3         4    ...  183  184  185  186  187\n",
              "0  0.977941  0.926471  0.681373  0.245098  0.154412  ...  0.0  0.0  0.0  0.0  0.0\n",
              "1  0.960114  0.863248  0.461538  0.196581  0.094017  ...  0.0  0.0  0.0  0.0  0.0\n",
              "2  1.000000  0.659459  0.186486  0.070270  0.070270  ...  0.0  0.0  0.0  0.0  0.0\n",
              "3  0.925414  0.665746  0.541436  0.276243  0.196133  ...  0.0  0.0  0.0  0.0  0.0\n",
              "4  0.967136  1.000000  0.830986  0.586854  0.356808  ...  0.0  0.0  0.0  0.0  0.0\n",
              "\n",
              "[5 rows x 188 columns]"
            ]
          },
          "metadata": {},
          "execution_count": 2
        }
      ]
    },
    {
      "cell_type": "code",
      "metadata": {
        "colab": {
          "base_uri": "https://localhost:8080/",
          "height": 256
        },
        "id": "L6nOvxL8lD3E",
        "outputId": "65a469b9-adc2-414b-817a-c5a6270f967a"
      },
      "source": [
        "# Download test data\n",
        "test_id = '1hx4E06B2KXFavgSoxNjX7VcVVSh0S5w0'\n",
        "downloaded = drive.CreateFile({'id':test_id})\n",
        "downloaded.GetContentFile('mitbih_test.csv')\n",
        "test = pd.read_csv('mitbih_test.csv', header=None)\n",
        "test.head()"
      ],
      "execution_count": 3,
      "outputs": [
        {
          "output_type": "execute_result",
          "data": {
            "text/html": [
              "<div>\n",
              "<style scoped>\n",
              "    .dataframe tbody tr th:only-of-type {\n",
              "        vertical-align: middle;\n",
              "    }\n",
              "\n",
              "    .dataframe tbody tr th {\n",
              "        vertical-align: top;\n",
              "    }\n",
              "\n",
              "    .dataframe thead th {\n",
              "        text-align: right;\n",
              "    }\n",
              "</style>\n",
              "<table border=\"1\" class=\"dataframe\">\n",
              "  <thead>\n",
              "    <tr style=\"text-align: right;\">\n",
              "      <th></th>\n",
              "      <th>0</th>\n",
              "      <th>1</th>\n",
              "      <th>2</th>\n",
              "      <th>3</th>\n",
              "      <th>4</th>\n",
              "      <th>5</th>\n",
              "      <th>6</th>\n",
              "      <th>7</th>\n",
              "      <th>8</th>\n",
              "      <th>9</th>\n",
              "      <th>10</th>\n",
              "      <th>11</th>\n",
              "      <th>12</th>\n",
              "      <th>13</th>\n",
              "      <th>14</th>\n",
              "      <th>15</th>\n",
              "      <th>16</th>\n",
              "      <th>17</th>\n",
              "      <th>18</th>\n",
              "      <th>19</th>\n",
              "      <th>20</th>\n",
              "      <th>21</th>\n",
              "      <th>22</th>\n",
              "      <th>23</th>\n",
              "      <th>24</th>\n",
              "      <th>25</th>\n",
              "      <th>26</th>\n",
              "      <th>27</th>\n",
              "      <th>28</th>\n",
              "      <th>29</th>\n",
              "      <th>30</th>\n",
              "      <th>31</th>\n",
              "      <th>32</th>\n",
              "      <th>33</th>\n",
              "      <th>34</th>\n",
              "      <th>35</th>\n",
              "      <th>36</th>\n",
              "      <th>37</th>\n",
              "      <th>38</th>\n",
              "      <th>39</th>\n",
              "      <th>...</th>\n",
              "      <th>148</th>\n",
              "      <th>149</th>\n",
              "      <th>150</th>\n",
              "      <th>151</th>\n",
              "      <th>152</th>\n",
              "      <th>153</th>\n",
              "      <th>154</th>\n",
              "      <th>155</th>\n",
              "      <th>156</th>\n",
              "      <th>157</th>\n",
              "      <th>158</th>\n",
              "      <th>159</th>\n",
              "      <th>160</th>\n",
              "      <th>161</th>\n",
              "      <th>162</th>\n",
              "      <th>163</th>\n",
              "      <th>164</th>\n",
              "      <th>165</th>\n",
              "      <th>166</th>\n",
              "      <th>167</th>\n",
              "      <th>168</th>\n",
              "      <th>169</th>\n",
              "      <th>170</th>\n",
              "      <th>171</th>\n",
              "      <th>172</th>\n",
              "      <th>173</th>\n",
              "      <th>174</th>\n",
              "      <th>175</th>\n",
              "      <th>176</th>\n",
              "      <th>177</th>\n",
              "      <th>178</th>\n",
              "      <th>179</th>\n",
              "      <th>180</th>\n",
              "      <th>181</th>\n",
              "      <th>182</th>\n",
              "      <th>183</th>\n",
              "      <th>184</th>\n",
              "      <th>185</th>\n",
              "      <th>186</th>\n",
              "      <th>187</th>\n",
              "    </tr>\n",
              "  </thead>\n",
              "  <tbody>\n",
              "    <tr>\n",
              "      <th>0</th>\n",
              "      <td>1.000000</td>\n",
              "      <td>0.758264</td>\n",
              "      <td>0.111570</td>\n",
              "      <td>0.000000</td>\n",
              "      <td>0.080579</td>\n",
              "      <td>0.078512</td>\n",
              "      <td>0.066116</td>\n",
              "      <td>0.049587</td>\n",
              "      <td>0.047521</td>\n",
              "      <td>0.035124</td>\n",
              "      <td>0.030992</td>\n",
              "      <td>0.028926</td>\n",
              "      <td>0.035124</td>\n",
              "      <td>0.026860</td>\n",
              "      <td>0.039256</td>\n",
              "      <td>0.035124</td>\n",
              "      <td>0.043388</td>\n",
              "      <td>0.047521</td>\n",
              "      <td>0.053719</td>\n",
              "      <td>0.053719</td>\n",
              "      <td>0.070248</td>\n",
              "      <td>0.072314</td>\n",
              "      <td>0.084711</td>\n",
              "      <td>0.097107</td>\n",
              "      <td>0.121901</td>\n",
              "      <td>0.132231</td>\n",
              "      <td>0.169421</td>\n",
              "      <td>0.196281</td>\n",
              "      <td>0.214876</td>\n",
              "      <td>0.235537</td>\n",
              "      <td>0.254132</td>\n",
              "      <td>0.264463</td>\n",
              "      <td>0.285124</td>\n",
              "      <td>0.272727</td>\n",
              "      <td>0.266529</td>\n",
              "      <td>0.239669</td>\n",
              "      <td>0.214876</td>\n",
              "      <td>0.173554</td>\n",
              "      <td>0.157025</td>\n",
              "      <td>0.123967</td>\n",
              "      <td>...</td>\n",
              "      <td>0.0</td>\n",
              "      <td>0.0</td>\n",
              "      <td>0.0</td>\n",
              "      <td>0.0</td>\n",
              "      <td>0.0</td>\n",
              "      <td>0.0</td>\n",
              "      <td>0.0</td>\n",
              "      <td>0.0</td>\n",
              "      <td>0.0</td>\n",
              "      <td>0.0</td>\n",
              "      <td>0.0</td>\n",
              "      <td>0.0</td>\n",
              "      <td>0.0</td>\n",
              "      <td>0.0</td>\n",
              "      <td>0.0</td>\n",
              "      <td>0.0</td>\n",
              "      <td>0.0</td>\n",
              "      <td>0.0</td>\n",
              "      <td>0.0</td>\n",
              "      <td>0.0</td>\n",
              "      <td>0.0</td>\n",
              "      <td>0.0</td>\n",
              "      <td>0.0</td>\n",
              "      <td>0.0</td>\n",
              "      <td>0.0</td>\n",
              "      <td>0.0</td>\n",
              "      <td>0.0</td>\n",
              "      <td>0.0</td>\n",
              "      <td>0.0</td>\n",
              "      <td>0.0</td>\n",
              "      <td>0.0</td>\n",
              "      <td>0.0</td>\n",
              "      <td>0.0</td>\n",
              "      <td>0.0</td>\n",
              "      <td>0.0</td>\n",
              "      <td>0.0</td>\n",
              "      <td>0.0</td>\n",
              "      <td>0.0</td>\n",
              "      <td>0.0</td>\n",
              "      <td>0.0</td>\n",
              "    </tr>\n",
              "    <tr>\n",
              "      <th>1</th>\n",
              "      <td>0.908425</td>\n",
              "      <td>0.783883</td>\n",
              "      <td>0.531136</td>\n",
              "      <td>0.362637</td>\n",
              "      <td>0.366300</td>\n",
              "      <td>0.344322</td>\n",
              "      <td>0.333333</td>\n",
              "      <td>0.307692</td>\n",
              "      <td>0.296703</td>\n",
              "      <td>0.300366</td>\n",
              "      <td>0.304029</td>\n",
              "      <td>0.336996</td>\n",
              "      <td>0.377289</td>\n",
              "      <td>0.391941</td>\n",
              "      <td>0.439560</td>\n",
              "      <td>0.446886</td>\n",
              "      <td>0.457875</td>\n",
              "      <td>0.479853</td>\n",
              "      <td>0.512821</td>\n",
              "      <td>0.534799</td>\n",
              "      <td>0.586081</td>\n",
              "      <td>0.586081</td>\n",
              "      <td>0.604396</td>\n",
              "      <td>0.633700</td>\n",
              "      <td>0.615385</td>\n",
              "      <td>0.582418</td>\n",
              "      <td>0.564103</td>\n",
              "      <td>0.520147</td>\n",
              "      <td>0.490842</td>\n",
              "      <td>0.490842</td>\n",
              "      <td>0.468864</td>\n",
              "      <td>0.454212</td>\n",
              "      <td>0.450549</td>\n",
              "      <td>0.465201</td>\n",
              "      <td>0.450549</td>\n",
              "      <td>0.432234</td>\n",
              "      <td>0.424908</td>\n",
              "      <td>0.410256</td>\n",
              "      <td>0.391941</td>\n",
              "      <td>0.369963</td>\n",
              "      <td>...</td>\n",
              "      <td>0.0</td>\n",
              "      <td>0.0</td>\n",
              "      <td>0.0</td>\n",
              "      <td>0.0</td>\n",
              "      <td>0.0</td>\n",
              "      <td>0.0</td>\n",
              "      <td>0.0</td>\n",
              "      <td>0.0</td>\n",
              "      <td>0.0</td>\n",
              "      <td>0.0</td>\n",
              "      <td>0.0</td>\n",
              "      <td>0.0</td>\n",
              "      <td>0.0</td>\n",
              "      <td>0.0</td>\n",
              "      <td>0.0</td>\n",
              "      <td>0.0</td>\n",
              "      <td>0.0</td>\n",
              "      <td>0.0</td>\n",
              "      <td>0.0</td>\n",
              "      <td>0.0</td>\n",
              "      <td>0.0</td>\n",
              "      <td>0.0</td>\n",
              "      <td>0.0</td>\n",
              "      <td>0.0</td>\n",
              "      <td>0.0</td>\n",
              "      <td>0.0</td>\n",
              "      <td>0.0</td>\n",
              "      <td>0.0</td>\n",
              "      <td>0.0</td>\n",
              "      <td>0.0</td>\n",
              "      <td>0.0</td>\n",
              "      <td>0.0</td>\n",
              "      <td>0.0</td>\n",
              "      <td>0.0</td>\n",
              "      <td>0.0</td>\n",
              "      <td>0.0</td>\n",
              "      <td>0.0</td>\n",
              "      <td>0.0</td>\n",
              "      <td>0.0</td>\n",
              "      <td>0.0</td>\n",
              "    </tr>\n",
              "    <tr>\n",
              "      <th>2</th>\n",
              "      <td>0.730088</td>\n",
              "      <td>0.212389</td>\n",
              "      <td>0.000000</td>\n",
              "      <td>0.119469</td>\n",
              "      <td>0.101770</td>\n",
              "      <td>0.101770</td>\n",
              "      <td>0.110619</td>\n",
              "      <td>0.123894</td>\n",
              "      <td>0.115044</td>\n",
              "      <td>0.132743</td>\n",
              "      <td>0.106195</td>\n",
              "      <td>0.141593</td>\n",
              "      <td>0.128319</td>\n",
              "      <td>0.150442</td>\n",
              "      <td>0.132743</td>\n",
              "      <td>0.150442</td>\n",
              "      <td>0.132743</td>\n",
              "      <td>0.150442</td>\n",
              "      <td>0.123894</td>\n",
              "      <td>0.163717</td>\n",
              "      <td>0.137168</td>\n",
              "      <td>0.141593</td>\n",
              "      <td>0.132743</td>\n",
              "      <td>0.150442</td>\n",
              "      <td>0.128319</td>\n",
              "      <td>0.146018</td>\n",
              "      <td>0.119469</td>\n",
              "      <td>0.123894</td>\n",
              "      <td>0.101770</td>\n",
              "      <td>0.092920</td>\n",
              "      <td>0.070796</td>\n",
              "      <td>0.079646</td>\n",
              "      <td>0.066372</td>\n",
              "      <td>0.070796</td>\n",
              "      <td>0.079646</td>\n",
              "      <td>0.092920</td>\n",
              "      <td>0.088496</td>\n",
              "      <td>0.084071</td>\n",
              "      <td>0.079646</td>\n",
              "      <td>0.088496</td>\n",
              "      <td>...</td>\n",
              "      <td>0.0</td>\n",
              "      <td>0.0</td>\n",
              "      <td>0.0</td>\n",
              "      <td>0.0</td>\n",
              "      <td>0.0</td>\n",
              "      <td>0.0</td>\n",
              "      <td>0.0</td>\n",
              "      <td>0.0</td>\n",
              "      <td>0.0</td>\n",
              "      <td>0.0</td>\n",
              "      <td>0.0</td>\n",
              "      <td>0.0</td>\n",
              "      <td>0.0</td>\n",
              "      <td>0.0</td>\n",
              "      <td>0.0</td>\n",
              "      <td>0.0</td>\n",
              "      <td>0.0</td>\n",
              "      <td>0.0</td>\n",
              "      <td>0.0</td>\n",
              "      <td>0.0</td>\n",
              "      <td>0.0</td>\n",
              "      <td>0.0</td>\n",
              "      <td>0.0</td>\n",
              "      <td>0.0</td>\n",
              "      <td>0.0</td>\n",
              "      <td>0.0</td>\n",
              "      <td>0.0</td>\n",
              "      <td>0.0</td>\n",
              "      <td>0.0</td>\n",
              "      <td>0.0</td>\n",
              "      <td>0.0</td>\n",
              "      <td>0.0</td>\n",
              "      <td>0.0</td>\n",
              "      <td>0.0</td>\n",
              "      <td>0.0</td>\n",
              "      <td>0.0</td>\n",
              "      <td>0.0</td>\n",
              "      <td>0.0</td>\n",
              "      <td>0.0</td>\n",
              "      <td>0.0</td>\n",
              "    </tr>\n",
              "    <tr>\n",
              "      <th>3</th>\n",
              "      <td>1.000000</td>\n",
              "      <td>0.910417</td>\n",
              "      <td>0.681250</td>\n",
              "      <td>0.472917</td>\n",
              "      <td>0.229167</td>\n",
              "      <td>0.068750</td>\n",
              "      <td>0.000000</td>\n",
              "      <td>0.004167</td>\n",
              "      <td>0.014583</td>\n",
              "      <td>0.054167</td>\n",
              "      <td>0.102083</td>\n",
              "      <td>0.122917</td>\n",
              "      <td>0.150000</td>\n",
              "      <td>0.168750</td>\n",
              "      <td>0.172917</td>\n",
              "      <td>0.170833</td>\n",
              "      <td>0.168750</td>\n",
              "      <td>0.164583</td>\n",
              "      <td>0.156250</td>\n",
              "      <td>0.152083</td>\n",
              "      <td>0.147917</td>\n",
              "      <td>0.147917</td>\n",
              "      <td>0.145833</td>\n",
              "      <td>0.145833</td>\n",
              "      <td>0.141667</td>\n",
              "      <td>0.141667</td>\n",
              "      <td>0.147917</td>\n",
              "      <td>0.158333</td>\n",
              "      <td>0.168750</td>\n",
              "      <td>0.179167</td>\n",
              "      <td>0.191667</td>\n",
              "      <td>0.206250</td>\n",
              "      <td>0.220833</td>\n",
              "      <td>0.239583</td>\n",
              "      <td>0.258333</td>\n",
              "      <td>0.275000</td>\n",
              "      <td>0.287500</td>\n",
              "      <td>0.308333</td>\n",
              "      <td>0.320833</td>\n",
              "      <td>0.331250</td>\n",
              "      <td>...</td>\n",
              "      <td>0.0</td>\n",
              "      <td>0.0</td>\n",
              "      <td>0.0</td>\n",
              "      <td>0.0</td>\n",
              "      <td>0.0</td>\n",
              "      <td>0.0</td>\n",
              "      <td>0.0</td>\n",
              "      <td>0.0</td>\n",
              "      <td>0.0</td>\n",
              "      <td>0.0</td>\n",
              "      <td>0.0</td>\n",
              "      <td>0.0</td>\n",
              "      <td>0.0</td>\n",
              "      <td>0.0</td>\n",
              "      <td>0.0</td>\n",
              "      <td>0.0</td>\n",
              "      <td>0.0</td>\n",
              "      <td>0.0</td>\n",
              "      <td>0.0</td>\n",
              "      <td>0.0</td>\n",
              "      <td>0.0</td>\n",
              "      <td>0.0</td>\n",
              "      <td>0.0</td>\n",
              "      <td>0.0</td>\n",
              "      <td>0.0</td>\n",
              "      <td>0.0</td>\n",
              "      <td>0.0</td>\n",
              "      <td>0.0</td>\n",
              "      <td>0.0</td>\n",
              "      <td>0.0</td>\n",
              "      <td>0.0</td>\n",
              "      <td>0.0</td>\n",
              "      <td>0.0</td>\n",
              "      <td>0.0</td>\n",
              "      <td>0.0</td>\n",
              "      <td>0.0</td>\n",
              "      <td>0.0</td>\n",
              "      <td>0.0</td>\n",
              "      <td>0.0</td>\n",
              "      <td>0.0</td>\n",
              "    </tr>\n",
              "    <tr>\n",
              "      <th>4</th>\n",
              "      <td>0.570470</td>\n",
              "      <td>0.399329</td>\n",
              "      <td>0.238255</td>\n",
              "      <td>0.147651</td>\n",
              "      <td>0.000000</td>\n",
              "      <td>0.003356</td>\n",
              "      <td>0.040268</td>\n",
              "      <td>0.080537</td>\n",
              "      <td>0.070470</td>\n",
              "      <td>0.090604</td>\n",
              "      <td>0.080537</td>\n",
              "      <td>0.104027</td>\n",
              "      <td>0.093960</td>\n",
              "      <td>0.117450</td>\n",
              "      <td>0.097315</td>\n",
              "      <td>0.134228</td>\n",
              "      <td>0.124161</td>\n",
              "      <td>0.161074</td>\n",
              "      <td>0.171141</td>\n",
              "      <td>0.194631</td>\n",
              "      <td>0.204698</td>\n",
              "      <td>0.261745</td>\n",
              "      <td>0.275168</td>\n",
              "      <td>0.332215</td>\n",
              "      <td>0.345638</td>\n",
              "      <td>0.395973</td>\n",
              "      <td>0.406040</td>\n",
              "      <td>0.456376</td>\n",
              "      <td>0.446309</td>\n",
              "      <td>0.446309</td>\n",
              "      <td>0.399329</td>\n",
              "      <td>0.369128</td>\n",
              "      <td>0.308725</td>\n",
              "      <td>0.295302</td>\n",
              "      <td>0.265101</td>\n",
              "      <td>0.271812</td>\n",
              "      <td>0.258389</td>\n",
              "      <td>0.268456</td>\n",
              "      <td>0.261745</td>\n",
              "      <td>0.281879</td>\n",
              "      <td>...</td>\n",
              "      <td>0.0</td>\n",
              "      <td>0.0</td>\n",
              "      <td>0.0</td>\n",
              "      <td>0.0</td>\n",
              "      <td>0.0</td>\n",
              "      <td>0.0</td>\n",
              "      <td>0.0</td>\n",
              "      <td>0.0</td>\n",
              "      <td>0.0</td>\n",
              "      <td>0.0</td>\n",
              "      <td>0.0</td>\n",
              "      <td>0.0</td>\n",
              "      <td>0.0</td>\n",
              "      <td>0.0</td>\n",
              "      <td>0.0</td>\n",
              "      <td>0.0</td>\n",
              "      <td>0.0</td>\n",
              "      <td>0.0</td>\n",
              "      <td>0.0</td>\n",
              "      <td>0.0</td>\n",
              "      <td>0.0</td>\n",
              "      <td>0.0</td>\n",
              "      <td>0.0</td>\n",
              "      <td>0.0</td>\n",
              "      <td>0.0</td>\n",
              "      <td>0.0</td>\n",
              "      <td>0.0</td>\n",
              "      <td>0.0</td>\n",
              "      <td>0.0</td>\n",
              "      <td>0.0</td>\n",
              "      <td>0.0</td>\n",
              "      <td>0.0</td>\n",
              "      <td>0.0</td>\n",
              "      <td>0.0</td>\n",
              "      <td>0.0</td>\n",
              "      <td>0.0</td>\n",
              "      <td>0.0</td>\n",
              "      <td>0.0</td>\n",
              "      <td>0.0</td>\n",
              "      <td>0.0</td>\n",
              "    </tr>\n",
              "  </tbody>\n",
              "</table>\n",
              "<p>5 rows × 188 columns</p>\n",
              "</div>"
            ],
            "text/plain": [
              "        0         1         2         3         4    ...  183  184  185  186  187\n",
              "0  1.000000  0.758264  0.111570  0.000000  0.080579  ...  0.0  0.0  0.0  0.0  0.0\n",
              "1  0.908425  0.783883  0.531136  0.362637  0.366300  ...  0.0  0.0  0.0  0.0  0.0\n",
              "2  0.730088  0.212389  0.000000  0.119469  0.101770  ...  0.0  0.0  0.0  0.0  0.0\n",
              "3  1.000000  0.910417  0.681250  0.472917  0.229167  ...  0.0  0.0  0.0  0.0  0.0\n",
              "4  0.570470  0.399329  0.238255  0.147651  0.000000  ...  0.0  0.0  0.0  0.0  0.0\n",
              "\n",
              "[5 rows x 188 columns]"
            ]
          },
          "metadata": {},
          "execution_count": 3
        }
      ]
    },
    {
      "cell_type": "code",
      "metadata": {
        "id": "Ooqx0sS7mhAx"
      },
      "source": [
        "# Rename final column to be label\n",
        "train = train.rename(columns={187: \"Label\"})\n",
        "test = test.rename(columns={187: \"Label\"})"
      ],
      "execution_count": 4,
      "outputs": []
    },
    {
      "cell_type": "markdown",
      "metadata": {
        "id": "iL4VOunUmYhn"
      },
      "source": [
        "Check how many records are within each category:"
      ]
    },
    {
      "cell_type": "code",
      "metadata": {
        "colab": {
          "base_uri": "https://localhost:8080/"
        },
        "id": "hNJsLBdkCL83",
        "outputId": "c5af8dc4-5a01-43a3-e5ac-36c40c0ea648"
      },
      "source": [
        "print('Training data: \\n Count: \\n',train.groupby(by='Label').count()[1],'\\n\\n Proportion:',train.groupby(by='Label').count()[1]/train.shape[0],'\\n\\n')\n",
        "print('Test data: \\n Count: \\n',test.groupby(by='Label').count()[1], '\\n\\n Proportion:',test.groupby(by='Label').count()[1]/test.shape[0])"
      ],
      "execution_count": 5,
      "outputs": [
        {
          "output_type": "stream",
          "name": "stdout",
          "text": [
            "Training data: \n",
            " Count: \n",
            " Label\n",
            "0.0    72471\n",
            "1.0     2223\n",
            "2.0     5788\n",
            "3.0      641\n",
            "4.0     6431\n",
            "Name: 1, dtype: int64 \n",
            "\n",
            " Proportion: Label\n",
            "0.0    0.827729\n",
            "1.0    0.025390\n",
            "2.0    0.066108\n",
            "3.0    0.007321\n",
            "4.0    0.073452\n",
            "Name: 1, dtype: float64 \n",
            "\n",
            "\n",
            "Test data: \n",
            " Count: \n",
            " Label\n",
            "0.0    18118\n",
            "1.0      556\n",
            "2.0     1448\n",
            "3.0      162\n",
            "4.0     1608\n",
            "Name: 1, dtype: int64 \n",
            "\n",
            " Proportion: Label\n",
            "0.0    0.827608\n",
            "1.0    0.025397\n",
            "2.0    0.066143\n",
            "3.0    0.007400\n",
            "4.0    0.073451\n",
            "Name: 1, dtype: float64\n"
          ]
        }
      ]
    },
    {
      "cell_type": "markdown",
      "metadata": {
        "id": "Tlc_UkeuCyZJ"
      },
      "source": [
        "Hence, we see that the test data has similar proportions of records within each category, so the data perparation has been achieved well. \n",
        "\n",
        "Now choose a small number of signals in each of the categories to plot the profile for:"
      ]
    },
    {
      "cell_type": "code",
      "metadata": {
        "id": "OyLQJrbjD9oA"
      },
      "source": [
        "rec0 = train.loc[train['Label']==0.0].sample(n=5)\n",
        "rec1 = train.loc[train['Label']==1.0].sample(n=5)\n",
        "rec2 = train.loc[train['Label']==2.0].sample(n=5)\n",
        "rec3 = train.loc[train['Label']==3.0].sample(n=5)\n",
        "rec4 = train.loc[train['Label']==4.0].sample(n=5)"
      ],
      "execution_count": 6,
      "outputs": []
    },
    {
      "cell_type": "code",
      "metadata": {
        "colab": {
          "base_uri": "https://localhost:8080/",
          "height": 1000
        },
        "id": "vO9tnd4sFaQb",
        "outputId": "482487f2-cf42-4245-dee9-4e0b2297d6d6"
      },
      "source": [
        "import matplotlib.pyplot as plt\n",
        "\n",
        "for i in range(5):\n",
        "  plt.plot(rec0.values[i][:-1])\n",
        "plt.title('0')\n",
        "plt.show()\n",
        "\n",
        "for i in range(5):\n",
        "  plt.plot(rec1.values[i][:-1])\n",
        "plt.title('1')\n",
        "plt.show()\n",
        "\n",
        "for i in range(5):\n",
        "  plt.plot(rec2.values[i][:-1])\n",
        "plt.title('2')\n",
        "plt.show()\n",
        "\n",
        "for i in range(5):\n",
        "  plt.plot(rec3.values[i][:-1])\n",
        "plt.title('3')\n",
        "plt.show()\n",
        "\n",
        "for i in range(5):\n",
        "  plt.plot(rec4.values[i][:-1])\n",
        "plt.title('4')\n",
        "plt.show()"
      ],
      "execution_count": 7,
      "outputs": [
        {
          "output_type": "display_data",
          "data": {
            "image/png": "[encoded data removed]",
            "text/plain": [
              "<Figure size 432x288 with 1 Axes>"
            ]
          },
          "metadata": {
            "needs_background": "light"
          }
        },
        {
          "output_type": "display_data",
          "data": {
            "image/png": "[encoded data removed]",
            "text/plain": [
              "<Figure size 432x288 with 1 Axes>"
            ]
          },
          "metadata": {
            "needs_background": "light"
          }
        },
        {
          "output_type": "display_data",
          "data": {
            "image/png": "[encoded data removed]",
            "text/plain": [
              "<Figure size 432x288 with 1 Axes>"
            ]
          },
          "metadata": {
            "needs_background": "light"
          }
        },
        {
          "output_type": "display_data",
          "data": {
            "image/png": "[encoded data removed]",
            "text/plain": [
              "<Figure size 432x288 with 1 Axes>"
            ]
          },
          "metadata": {
            "needs_background": "light"
          }
        },
        {
          "output_type": "display_data",
          "data": {
            "image/png": "[encoded data removed]",
            "text/plain": [
              "<Figure size 432x288 with 1 Axes>"
            ]
          },
          "metadata": {
            "needs_background": "light"
          }
        }
      ]
    },
    {
      "cell_type": "markdown",
      "metadata": {
        "id": "EupdTmW4IPzs"
      },
      "source": [
        "Note that we have different time periods where the signal is 0 at the end of the beat, which may be a useful consideration in the model (but could be accounted for using feature engineering: scale the beat to 1, and include the length of the beat)."
      ]
    },
    {
      "cell_type": "markdown",
      "metadata": {
        "id": "4gr1FdQ4mhpG"
      },
      "source": [
        "## Parts 3--5\n",
        "Train some machine learning models and evaluate these models on the test data. Obtain the most important features in the classification."
      ]
    },
    {
      "cell_type": "code",
      "metadata": {
        "id": "QUyijVw9RZ3x"
      },
      "source": [
        "# Separate labels from the data used to obtain the label\n",
        "X_train = train.drop('Label',axis=1)\n",
        "Y_train = train['Label']\n",
        "\n",
        "X_test = test.drop('Label',axis=1)\n",
        "Y_test = test['Label']"
      ],
      "execution_count": 8,
      "outputs": []
    },
    {
      "cell_type": "code",
      "metadata": {
        "id": "x0zLtxT01VZ4"
      },
      "source": [
        "# Import machine learning modules\n",
        "from sklearn.model_selection import cross_val_score, GridSearchCV, RandomizedSearchCV\n",
        "from sklearn.linear_model import LogisticRegression\n",
        "from sklearn.svm import SVC\n",
        "from sklearn.ensemble import RandomForestClassifier, AdaBoostClassifier, GradientBoostingClassifier\n",
        "from sklearn.preprocessing import MinMaxScaler\n",
        "from sklearn import preprocessing\n",
        "from sklearn.model_selection import train_test_split\n",
        "from sklearn.model_selection import cross_val_score, KFold, StratifiedKFold\n",
        "from sklearn.metrics import accuracy_score, f1_score, cohen_kappa_score, make_scorer\n",
        "from warnings import simplefilter\n",
        "from sklearn.metrics import confusion_matrix"
      ],
      "execution_count": 9,
      "outputs": []
    },
    {
      "cell_type": "markdown",
      "metadata": {
        "id": "jvcOvg-z3q_g"
      },
      "source": [
        "#### Logistic regression\n",
        "Start by using a logistic regression model to classify the beat types."
      ]
    },
    {
      "cell_type": "code",
      "metadata": {
        "colab": {
          "base_uri": "https://localhost:8080/"
        },
        "id": "xPr2jMs253T4",
        "outputId": "5953a8cd-3433-4526-a6d4-f51d904c3c91"
      },
      "source": [
        "# instatiate a linear model and check cross-validation using stratified K-fold performance\n",
        "simplefilter(\"ignore\")\n",
        "model_log_reg = LogisticRegression()\n",
        "skf = StratifiedKFold(n_splits=5)\n",
        "cv_score = cross_val_score(model_log_reg, X_train, Y_train, cv=skf)\n",
        "print(cv_score)\n",
        "print(cv_score.mean())"
      ],
      "execution_count": 10,
      "outputs": [
        {
          "output_type": "stream",
          "name": "stdout",
          "text": [
            "[0.9089715  0.91439666 0.91405402 0.91039918 0.91496288]\n",
            "0.9125568495560318\n"
          ]
        }
      ]
    },
    {
      "cell_type": "code",
      "metadata": {
        "colab": {
          "base_uri": "https://localhost:8080/"
        },
        "id": "OChedQQO0MmV",
        "outputId": "2ab5f2bd-d1a3-4830-a734-b00c6e88b99b"
      },
      "source": [
        "# Fit the model using the training data\n",
        "model_log_reg.fit(X_train, Y_train)"
      ],
      "execution_count": 11,
      "outputs": [
        {
          "output_type": "execute_result",
          "data": {
            "text/plain": [
              "LogisticRegression(C=1.0, class_weight=None, dual=False, fit_intercept=True,\n",
              "                   intercept_scaling=1, l1_ratio=None, max_iter=100,\n",
              "                   multi_class='auto', n_jobs=None, penalty='l2',\n",
              "                   random_state=None, solver='lbfgs', tol=0.0001, verbose=0,\n",
              "                   warm_start=False)"
            ]
          },
          "metadata": {},
          "execution_count": 11
        }
      ]
    },
    {
      "cell_type": "code",
      "metadata": {
        "colab": {
          "base_uri": "https://localhost:8080/",
          "height": 241
        },
        "id": "0SkyVeo41VlX",
        "outputId": "9e83781c-e7de-4354-ef24-73cb7f101d47"
      },
      "source": [
        "# Check the accuracy of the model and obtain the confusion matrix.\n",
        "Y_predicted= model_log_reg.predict(X_train)\n",
        "accuracy = accuracy_score(Y_train, Y_predicted)\n",
        "print('Accuracy of Logistic Regression model: ',accuracy,'\\n')\n",
        "conf_mat = pd.DataFrame(data=confusion_matrix(Y_train, Y_predicted), columns=[\"N_pred\",\"S_pred\",\"F_pred\",\"V_pred\",\"Q_pred\"], index=[\"N_true\",\"S_true\",\"F_true\",\"V_true\",\"Q_true\"])\n",
        "conf_mat.head()\n"
      ],
      "execution_count": 12,
      "outputs": [
        {
          "output_type": "stream",
          "name": "stdout",
          "text": [
            "Accuracy of Logistic Regression model:  0.913447700847477 \n",
            "\n"
          ]
        },
        {
          "output_type": "execute_result",
          "data": {
            "text/html": [
              "<div>\n",
              "<style scoped>\n",
              "    .dataframe tbody tr th:only-of-type {\n",
              "        vertical-align: middle;\n",
              "    }\n",
              "\n",
              "    .dataframe tbody tr th {\n",
              "        vertical-align: top;\n",
              "    }\n",
              "\n",
              "    .dataframe thead th {\n",
              "        text-align: right;\n",
              "    }\n",
              "</style>\n",
              "<table border=\"1\" class=\"dataframe\">\n",
              "  <thead>\n",
              "    <tr style=\"text-align: right;\">\n",
              "      <th></th>\n",
              "      <th>N_pred</th>\n",
              "      <th>S_pred</th>\n",
              "      <th>F_pred</th>\n",
              "      <th>V_pred</th>\n",
              "      <th>Q_pred</th>\n",
              "    </tr>\n",
              "  </thead>\n",
              "  <tbody>\n",
              "    <tr>\n",
              "      <th>N_true</th>\n",
              "      <td>71314</td>\n",
              "      <td>89</td>\n",
              "      <td>859</td>\n",
              "      <td>43</td>\n",
              "      <td>166</td>\n",
              "    </tr>\n",
              "    <tr>\n",
              "      <th>S_true</th>\n",
              "      <td>1220</td>\n",
              "      <td>895</td>\n",
              "      <td>100</td>\n",
              "      <td>1</td>\n",
              "      <td>7</td>\n",
              "    </tr>\n",
              "    <tr>\n",
              "      <th>F_true</th>\n",
              "      <td>3573</td>\n",
              "      <td>55</td>\n",
              "      <td>1998</td>\n",
              "      <td>59</td>\n",
              "      <td>103</td>\n",
              "    </tr>\n",
              "    <tr>\n",
              "      <th>V_true</th>\n",
              "      <td>476</td>\n",
              "      <td>0</td>\n",
              "      <td>30</td>\n",
              "      <td>135</td>\n",
              "      <td>0</td>\n",
              "    </tr>\n",
              "    <tr>\n",
              "      <th>Q_true</th>\n",
              "      <td>721</td>\n",
              "      <td>2</td>\n",
              "      <td>74</td>\n",
              "      <td>0</td>\n",
              "      <td>5634</td>\n",
              "    </tr>\n",
              "  </tbody>\n",
              "</table>\n",
              "</div>"
            ],
            "text/plain": [
              "        N_pred  S_pred  F_pred  V_pred  Q_pred\n",
              "N_true   71314      89     859      43     166\n",
              "S_true    1220     895     100       1       7\n",
              "F_true    3573      55    1998      59     103\n",
              "V_true     476       0      30     135       0\n",
              "Q_true     721       2      74       0    5634"
            ]
          },
          "metadata": {},
          "execution_count": 12
        }
      ]
    },
    {
      "cell_type": "markdown",
      "metadata": {
        "id": "VVheQc8K1T_5"
      },
      "source": [
        "It initially appears that the model gives a reasonable accuracy (91%), but by obtaining the confusion matrix, we see how a large proportion of signals were misclassifed as normal, owing to the imbalance of the dataset. \n",
        "\n",
        "We will therefore try other approaches to improve the accuracy. Nevertheless, we will apply this model to the test data set as a starting point."
      ]
    },
    {
      "cell_type": "code",
      "metadata": {
        "colab": {
          "base_uri": "https://localhost:8080/",
          "height": 241
        },
        "id": "YTya-AsM5sDs",
        "outputId": "a9f6d778-1d32-48ec-82c8-9838786ddcf9"
      },
      "source": [
        "# Apply the model on the test dataset and check the accuracy.\n",
        "Y_test_predicted= model_log_reg.predict(X_test)\n",
        "accuracy = accuracy_score(Y_test, Y_test_predicted)\n",
        "print('Accuracy of Logistic Regression model on test dataset: ',accuracy,'\\n')\n",
        "conf_mat = pd.DataFrame(data=confusion_matrix(Y_test, Y_test_predicted), columns=[\"N_pred\",\"S_pred\",\"F_pred\",\"V_pred\",\"Q_pred\"], index=[\"N_true\",\"S_true\",\"F_true\",\"V_true\",\"Q_true\"])\n",
        "conf_mat.head()"
      ],
      "execution_count": 13,
      "outputs": [
        {
          "output_type": "stream",
          "name": "stdout",
          "text": [
            "Accuracy of Logistic Regression model on test dataset:  0.9117029051708386 \n",
            "\n"
          ]
        },
        {
          "output_type": "execute_result",
          "data": {
            "text/html": [
              "<div>\n",
              "<style scoped>\n",
              "    .dataframe tbody tr th:only-of-type {\n",
              "        vertical-align: middle;\n",
              "    }\n",
              "\n",
              "    .dataframe tbody tr th {\n",
              "        vertical-align: top;\n",
              "    }\n",
              "\n",
              "    .dataframe thead th {\n",
              "        text-align: right;\n",
              "    }\n",
              "</style>\n",
              "<table border=\"1\" class=\"dataframe\">\n",
              "  <thead>\n",
              "    <tr style=\"text-align: right;\">\n",
              "      <th></th>\n",
              "      <th>N_pred</th>\n",
              "      <th>S_pred</th>\n",
              "      <th>F_pred</th>\n",
              "      <th>V_pred</th>\n",
              "      <th>Q_pred</th>\n",
              "    </tr>\n",
              "  </thead>\n",
              "  <tbody>\n",
              "    <tr>\n",
              "      <th>N_true</th>\n",
              "      <td>17832</td>\n",
              "      <td>26</td>\n",
              "      <td>207</td>\n",
              "      <td>14</td>\n",
              "      <td>39</td>\n",
              "    </tr>\n",
              "    <tr>\n",
              "      <th>S_true</th>\n",
              "      <td>327</td>\n",
              "      <td>197</td>\n",
              "      <td>32</td>\n",
              "      <td>0</td>\n",
              "      <td>0</td>\n",
              "    </tr>\n",
              "    <tr>\n",
              "      <th>F_true</th>\n",
              "      <td>900</td>\n",
              "      <td>11</td>\n",
              "      <td>483</td>\n",
              "      <td>26</td>\n",
              "      <td>28</td>\n",
              "    </tr>\n",
              "    <tr>\n",
              "      <th>V_true</th>\n",
              "      <td>107</td>\n",
              "      <td>0</td>\n",
              "      <td>8</td>\n",
              "      <td>47</td>\n",
              "      <td>0</td>\n",
              "    </tr>\n",
              "    <tr>\n",
              "      <th>Q_true</th>\n",
              "      <td>186</td>\n",
              "      <td>0</td>\n",
              "      <td>22</td>\n",
              "      <td>0</td>\n",
              "      <td>1400</td>\n",
              "    </tr>\n",
              "  </tbody>\n",
              "</table>\n",
              "</div>"
            ],
            "text/plain": [
              "        N_pred  S_pred  F_pred  V_pred  Q_pred\n",
              "N_true   17832      26     207      14      39\n",
              "S_true     327     197      32       0       0\n",
              "F_true     900      11     483      26      28\n",
              "V_true     107       0       8      47       0\n",
              "Q_true     186       0      22       0    1400"
            ]
          },
          "metadata": {},
          "execution_count": 13
        }
      ]
    },
    {
      "cell_type": "markdown",
      "metadata": {
        "id": "kXQCb1s_7N2S"
      },
      "source": [
        "The dataset is imbalanced, so ahead of applying more complicated machinne learning models, we will try to initially deal with the imbalance. In particular, we use the f1 score as a measure of accuracy."
      ]
    },
    {
      "cell_type": "code",
      "metadata": {
        "id": "xZKEnjU9PUSQ"
      },
      "source": [
        "def disp_cv_score(model,X_train,Y_train):\n",
        "  '''Cross validation with 5-fold stratification, evaluating performance using f1 score'''\n",
        "  cv = StratifiedKFold(n_splits=5, shuffle=False) \n",
        "  cv_score_total = 0\n",
        "  kf = 0\n",
        "  for train_index, test_index in cv.split(X_train,Y_train):\n",
        "          X1_train, X1_test = X_train.iloc[train_index], X_train.iloc[test_index]\n",
        "          Y1_train, Y1_test = Y_train.iloc[train_index], Y_train.iloc[test_index]\n",
        "          model.fit(X1_train, Y1_train)\n",
        "          y_pred = model.predict(X1_test)\n",
        "          score = f1_score(Y1_test, y_pred, average='macro')\n",
        "          cv_score_total += score\n",
        "          kf += 1\n",
        "          print('KFold ',kf,' F1 score: ', score,'\\n\\n')\n",
        "\n",
        "  print('Average F1 score: ',cv_score_total/5)"
      ],
      "execution_count": 14,
      "outputs": []
    },
    {
      "cell_type": "code",
      "metadata": {
        "colab": {
          "base_uri": "https://localhost:8080/"
        },
        "id": "9RWqP-YDDmYA",
        "outputId": "3653b9e1-d503-4ac7-a8bb-096179b3f625"
      },
      "source": [
        "# Evaluate simple logistic regression model on training data using F1 score\n",
        "simplefilter(\"ignore\")\n",
        "model_log_reg = LogisticRegression()\n",
        "disp_cv_score(model_log_reg,X_train,Y_train)"
      ],
      "execution_count": 15,
      "outputs": [
        {
          "output_type": "stream",
          "name": "stdout",
          "text": [
            "KFold  1  F1 score:  0.607764019062569 \n",
            "\n",
            "\n",
            "KFold  2  F1 score:  0.6392333953074396 \n",
            "\n",
            "\n",
            "KFold  3  F1 score:  0.6307985892735826 \n",
            "\n",
            "\n",
            "KFold  4  F1 score:  0.6340405047675358 \n",
            "\n",
            "\n",
            "KFold  5  F1 score:  0.631838851799899 \n",
            "\n",
            "\n",
            "Average F1 score:  0.6287350720422052\n"
          ]
        }
      ]
    },
    {
      "cell_type": "markdown",
      "metadata": {
        "id": "B5UWwt5DFuAu"
      },
      "source": [
        "As the score with this measure is low (~0.63), we should look at dealing with the imbalance in order to improve the classification model."
      ]
    },
    {
      "cell_type": "markdown",
      "metadata": {
        "id": "anBARF68ZKvP"
      },
      "source": [
        "#### Addressing the imbalance in the data using over and under sampling"
      ]
    },
    {
      "cell_type": "markdown",
      "metadata": {
        "id": "APmlmzSFE4Bl"
      },
      "source": [
        "We may try undersampling or oversampling in order to make a more balanced training dataset. The following code is based from the tutorial: https://machinelearningmastery.com/random-oversampling-and-undersampling-for-imbalanced-classification/."
      ]
    },
    {
      "cell_type": "code",
      "metadata": {
        "colab": {
          "base_uri": "https://localhost:8080/"
        },
        "id": "nBlQcLWnFXfj",
        "outputId": "98e260a5-9d4b-4471-d868-ff690d210af0"
      },
      "source": [
        "!pip install imbalanced-learn\n",
        "import imblearn\n",
        "from imblearn.under_sampling import RandomUnderSampler\n",
        "from imblearn.over_sampling import RandomOverSampler\n",
        "from imblearn.pipeline import Pipeline "
      ],
      "execution_count": 16,
      "outputs": [
        {
          "output_type": "stream",
          "name": "stdout",
          "text": [
            "Requirement already satisfied: imbalanced-learn in /usr/local/lib/python3.7/dist-packages (0.4.3)\n",
            "Requirement already satisfied: numpy>=1.8.2 in /usr/local/lib/python3.7/dist-packages (from imbalanced-learn) (1.19.5)\n",
            "Requirement already satisfied: scipy>=0.13.3 in /usr/local/lib/python3.7/dist-packages (from imbalanced-learn) (1.4.1)\n",
            "Requirement already satisfied: scikit-learn>=0.20 in /usr/local/lib/python3.7/dist-packages (from imbalanced-learn) (0.22.2.post1)\n",
            "Requirement already satisfied: joblib>=0.11 in /usr/local/lib/python3.7/dist-packages (from scikit-learn>=0.20->imbalanced-learn) (1.1.0)\n"
          ]
        }
      ]
    },
    {
      "cell_type": "code",
      "metadata": {
        "id": "H1cXel2MIM6-"
      },
      "source": [
        "def classification_model_score(model,X_train,Y_train):\n",
        "  '''Function to evaluate performance of classification model with undersampling.'''\n",
        "  # Apply cross-validation to evaluate the accuracy of the model.\n",
        "  disp_cv_score(model,X_train,Y_train)\n",
        "  # Fit the model to the training data and evaluate its performancee\n",
        "  model.fit(X_train, Y_train)\n",
        "  Y_predicted= model.predict(X_train)\n",
        "  accuracy = f1_score(Y_train, Y_predicted, average = 'macro')\n",
        "  print('Accuracy of Logistic Regression model: ',accuracy,'\\n')\n",
        "  # Display the confusion matrix\n",
        "  conf_mat = pd.DataFrame(data=confusion_matrix(Y_train, Y_predicted), columns=[\"N_pred\",\"S_pred\",\"F_pred\",\"V_pred\",\"Q_pred\"], index=[\"N_true\",\"S_true\",\"F_true\",\"V_true\",\"Q_true\"])\n",
        "  print(conf_mat.head())"
      ],
      "execution_count": 17,
      "outputs": []
    },
    {
      "cell_type": "markdown",
      "metadata": {
        "id": "VnpDyAvpTWwq"
      },
      "source": [
        "Start with an undersampling strategy that decreases the number of records in the majority class (normal heart beats)"
      ]
    },
    {
      "cell_type": "code",
      "metadata": {
        "colab": {
          "base_uri": "https://localhost:8080/"
        },
        "id": "KNx8Qto9Igis",
        "outputId": "a17b9b8a-cdf4-4f1a-c3b7-266280c371da"
      },
      "source": [
        "import numpy as np\n",
        "# Define undersample strategy\n",
        "undersample = RandomUnderSampler()\n",
        "# Fit and apply the transform\n",
        "X_under, Y_under = undersample.fit_resample(X_train,Y_train)\n",
        "model_log_reg = LogisticRegression()\n",
        "\n",
        "# Note that the function disp_cv_score requires training data to be in a pandas dataframe format, rather tahn a numpy array\n",
        "classification_model_score(model_log_reg,pd.DataFrame(data=X_under),pd.DataFrame(data=Y_under))\n",
        "\n",
        "Y_predicted= model_log_reg.predict(X_train)\n",
        "accuracy = f1_score(Y_train, Y_predicted, average = 'macro')\n",
        "print('Accuracy of Logistic Regression model on full dataset: ',accuracy,'\\n')\n",
        "conf_mat = pd.DataFrame(data=confusion_matrix(Y_train, Y_predicted), columns=[\"N_pred\",\"S_pred\",\"F_pred\",\"V_pred\",\"Q_pred\"], index=[\"N_true\",\"S_true\",\"F_true\",\"V_true\",\"Q_true\"])\n",
        "print(conf_mat.head())"
      ],
      "execution_count": 18,
      "outputs": [
        {
          "output_type": "stream",
          "name": "stdout",
          "text": [
            "KFold  1  F1 score:  0.756720296256912 \n",
            "\n",
            "\n",
            "KFold  2  F1 score:  0.7663084978942589 \n",
            "\n",
            "\n",
            "KFold  3  F1 score:  0.7447416522424203 \n",
            "\n",
            "\n",
            "KFold  4  F1 score:  0.7417898713934153 \n",
            "\n",
            "\n",
            "KFold  5  F1 score:  0.7857998106628878 \n",
            "\n",
            "\n",
            "Average F1 score:  0.7590720256899789\n",
            "Accuracy of Logistic Regression model:  0.7965845635206592 \n",
            "\n",
            "        N_pred  S_pred  F_pred  V_pred  Q_pred\n",
            "N_true     447      62      67      46      19\n",
            "S_true     137     451      29      18       6\n",
            "F_true      38      23     510      53      17\n",
            "V_true      43       4      34     558       2\n",
            "Q_true      20       0      30       5     586\n",
            "Accuracy of Logistic Regression model on full dataset:  0.4716065755997538 \n",
            "\n",
            "        N_pred  S_pred  F_pred  V_pred  Q_pred\n",
            "N_true   45120    9530    9835    6232    1754\n",
            "S_true     524    1511     107      64      17\n",
            "F_true     494     301    4292     476     225\n",
            "V_true      43       4      34     558       2\n",
            "Q_true     303      14     285      27    5802\n"
          ]
        }
      ]
    },
    {
      "cell_type": "markdown",
      "metadata": {
        "id": "mHJVqdB3RmMV"
      },
      "source": [
        "We see while using 'majority' as the undersampling strategy improves the performance of the model on the resampled training data, but reduces it on the full training data as many normal heart beats are classified as not normal. \n",
        "\n",
        "Next, we will try oversampling the minority classes"
      ]
    },
    {
      "cell_type": "code",
      "metadata": {
        "colab": {
          "base_uri": "https://localhost:8080/"
        },
        "id": "oawOo9HJaKiW",
        "outputId": "24fe03ee-87e0-4ad0-e4cf-3fac0deee012"
      },
      "source": [
        "import numpy as np\n",
        "# Define undersample strategy\n",
        "oversample = RandomOverSampler()\n",
        "# Fit and apply the transform\n",
        "X_over, Y_over = oversample.fit_resample(X_train,Y_train)\n",
        "model_log_reg = LogisticRegression()\n",
        "\n",
        "# Note that the function disp_cv_score requires training data to be in a pandas dataframe format, rather than a numpy array\n",
        "classification_model_score(model_log_reg,pd.DataFrame(data=X_over),pd.DataFrame(data=Y_over))\n",
        "\n",
        "Y_predicted= model_log_reg.predict(X_train)\n",
        "accuracy = f1_score(Y_train, Y_predicted, average = 'macro')\n",
        "print('Accuracy of Logistic Regression model on full dataset: ',accuracy,'\\n')\n",
        "conf_mat = pd.DataFrame(data=confusion_matrix(Y_train, Y_predicted), columns=[\"N_pred\",\"S_pred\",\"F_pred\",\"V_pred\",\"Q_pred\"], index=[\"N_true\",\"S_true\",\"F_true\",\"V_true\",\"Q_true\"])\n",
        "print(conf_mat.head())"
      ],
      "execution_count": 19,
      "outputs": [
        {
          "output_type": "stream",
          "name": "stdout",
          "text": [
            "KFold  1  F1 score:  0.7769969415257341 \n",
            "\n",
            "\n",
            "KFold  2  F1 score:  0.775883947189825 \n",
            "\n",
            "\n",
            "KFold  3  F1 score:  0.7784042980935425 \n",
            "\n",
            "\n",
            "KFold  4  F1 score:  0.776675847204914 \n",
            "\n",
            "\n",
            "KFold  5  F1 score:  0.7748795100230135 \n",
            "\n",
            "\n",
            "Average F1 score:  0.7765681088074057\n",
            "Accuracy of Logistic Regression model:  0.7782409381126512 \n",
            "\n",
            "        N_pred  S_pred  F_pred  V_pred  Q_pred\n",
            "N_true   46024    9214    9860    5534    1839\n",
            "S_true   14192   52177    3332    1852     918\n",
            "F_true    6786    2731   55097    5951    1906\n",
            "V_true    5116     628    4006   62498     223\n",
            "Q_true    2490     277    3377     264   66063\n",
            "Accuracy of Logistic Regression model on full dataset:  0.48196260096293886 \n",
            "\n",
            "        N_pred  S_pred  F_pred  V_pred  Q_pred\n",
            "N_true   46024    9214    9860    5534    1839\n",
            "S_true     434    1602     102      57      28\n",
            "F_true     545     221    4395     471     156\n",
            "V_true      44       6      36     553       2\n",
            "Q_true     218      24     300      26    5863\n"
          ]
        }
      ]
    },
    {
      "cell_type": "markdown",
      "metadata": {
        "id": "lQDtcPwqT5Q0"
      },
      "source": [
        "Oversampling does not appear to provide better performance than undersampling. We will now try to oversample minority classes and undersample the majority class, initially using the default options and subsequently by defining the number of records of each type used in the sampling strategy."
      ]
    },
    {
      "cell_type": "code",
      "metadata": {
        "colab": {
          "base_uri": "https://localhost:8080/"
        },
        "id": "BUEFaX1jckLh",
        "outputId": "b177c1f1-18ac-4350-efd0-53b29ba7669b"
      },
      "source": [
        "# Try combining under and over sampling\n",
        "over = RandomOverSampler()\n",
        "under = RandomUnderSampler()\n",
        "model_log_reg = LogisticRegression()\n",
        "pipeline = Pipeline(steps=[('o', over), ('u', under)])\n",
        "X_resampled, Y_resampled = pipeline.fit_resample(X_train, Y_train)\n",
        "classification_model_score(model_log_reg,pd.DataFrame(data=X_resampled),pd.DataFrame(data=Y_resampled))\n",
        "\n",
        "n = Y_train.shape[0]\n",
        "over = RandomOverSampler()\n",
        "under = RandomUnderSampler()\n",
        "model_log_reg = LogisticRegression()\n",
        "pipeline = Pipeline(steps=[('o', over), ('u', under)])\n",
        "X_resampled, Y_resampled = pipeline.fit_resample(X_train, Y_train)\n",
        "model_log_reg.fit(X_resampled,Y_resampled)\n",
        "\n",
        "Y_predicted= model_log_reg.predict(X_resampled)\n",
        "accuracy = f1_score(Y_resampled, Y_predicted, average = 'macro')\n",
        "print('Accuracy of Logistic Regression model on full dataset: ',accuracy,'\\n')\n",
        "conf_mat = pd.DataFrame(data=confusion_matrix(Y_resampled, Y_predicted), columns=[\"N_pred\",\"S_pred\",\"F_pred\",\"V_pred\",\"Q_pred\"], index=[\"N_true\",\"S_true\",\"F_true\",\"V_true\",\"Q_true\"])\n",
        "print(conf_mat.head())\n",
        "\n",
        "Y_predicted= model_log_reg.predict(X_train)\n",
        "accuracy = f1_score(Y_train, Y_predicted, average = 'macro')\n",
        "print('Accuracy of Logistic Regression model on full dataset: ',accuracy,'\\n')\n",
        "conf_mat = pd.DataFrame(data=confusion_matrix(Y_train, Y_predicted), columns=[\"N_pred\",\"S_pred\",\"F_pred\",\"V_pred\",\"Q_pred\"], index=[\"N_true\",\"S_true\",\"F_true\",\"V_true\",\"Q_true\"])\n",
        "print(conf_mat.head())"
      ],
      "execution_count": 21,
      "outputs": [
        {
          "output_type": "stream",
          "name": "stdout",
          "text": [
            "KFold  1  F1 score:  0.7790761936496138 \n",
            "\n",
            "\n",
            "KFold  2  F1 score:  0.7774970682159846 \n",
            "\n",
            "\n",
            "KFold  3  F1 score:  0.7801023117217093 \n",
            "\n",
            "\n",
            "KFold  4  F1 score:  0.7733191098592779 \n",
            "\n",
            "\n",
            "KFold  5  F1 score:  0.7777254987944914 \n",
            "\n",
            "\n",
            "Average F1 score:  0.7775440364482153\n",
            "Accuracy of Logistic Regression model:  0.7785384764546524 \n",
            "\n",
            "        N_pred  S_pred  F_pred  V_pred  Q_pred\n",
            "N_true   46606    8939    9518    5296    2112\n",
            "S_true   13955   52426    3283    1806    1001\n",
            "F_true    7216    2789   54187    6046    2233\n",
            "V_true    5007     698    4083   62435     248\n",
            "Q_true    2224     268    3351     269   66359\n",
            "Accuracy of Logistic Regression model on full dataset:  0.7775358101858071 \n",
            "\n",
            "        N_pred  S_pred  F_pred  V_pred  Q_pred\n",
            "N_true   45394    9410   10215    5551    1901\n",
            "S_true   13853   52800    2932    1905     981\n",
            "F_true    6932    2679   54881    5858    2121\n",
            "V_true    5222     634    3895   62459     261\n",
            "Q_true    2261     307    3424     326   66153\n",
            "Accuracy of Logistic Regression model on full dataset:  0.4779094186868004 \n",
            "\n",
            "        N_pred  S_pred  F_pred  V_pred  Q_pred\n",
            "N_true   45394    9410   10215    5551    1901\n",
            "S_true     423    1621      90      58      31\n",
            "F_true     547     220    4380     476     165\n",
            "V_true      46       6      35     552       2\n",
            "Q_true     197      29     308      28    5869\n"
          ]
        }
      ]
    },
    {
      "cell_type": "code",
      "metadata": {
        "id": "fz5Hq7TGloQo"
      },
      "source": [
        "def sampling_strat_dict(frac_maj):\n",
        "  '''Defined the dictionaries for sampling strategy:\n",
        "   {0:frac_maj*n,\n",
        "   1:(1-frac_maj)*n*prop1,\n",
        "   2:(1-frac_maj)*n*prop2,...}\n",
        "   where n is the total number of records and propi is the number of records \n",
        "   classified as i for i = 1,2,3,4'''\n",
        "  frac_min = 1- frac_maj\n",
        "  frac_max = max(frac_maj,frac_min)\n",
        "  n = Y_train.shape[0]\n",
        "  init_prop = dict(zip([0,1,2,3,4],(train.groupby(by='Label').count()[1]/train.shape[0]).values))\n",
        "  init_tot = dict(zip([0,1,2,3,4],(train.groupby(by='Label').count()[1]).values))\n",
        "\n",
        "  # Find the total proportion that the minority of beats contribute\n",
        "  minority_tot = init_prop[1]+init_prop[2]+init_prop[3]+init_prop[4]\n",
        "  # Find total normal beats in train data\n",
        "  n0 = init_tot[0]\n",
        "\n",
        "  over_dict = {}\n",
        "  under_dict = {}\n",
        "  over_dict[0] = round(n)\n",
        "  under_dict[0] = round(n*frac_min)\n",
        "  for i in range(1,5):\n",
        "    under_dict[i] = round(frac_min*n*init_prop[i]/minority_tot)\n",
        "    over_dict[i] = round(frac_max*n*init_prop[i]/minority_tot)\n",
        "\n",
        "  print('Oversampling strategy: ',over_dict)\n",
        "  print('Undersampling strategy: ',under_dict)\n",
        "\n",
        "  # Return dictionaries that provide the number of records in the sampling strategy\n",
        "  return over_dict, under_dict\n"
      ],
      "execution_count": 25,
      "outputs": []
    },
    {
      "cell_type": "code",
      "metadata": {
        "id": "X27RJvcEnlAp"
      },
      "source": [
        "def model_log_reg_sampling(frac,X_train,Y_train):\n",
        "  '''Function to evaluate a logistic regression model on the resampled and training\n",
        "  dataset with sampling strategy with frac_maj = frac'''\n",
        "  # Defing the dictionaries to provide number of samples in the under and oversampling\n",
        "  over_dict, under_dict = sampling_strat_dict(frac)\n",
        "\n",
        "  # Resample the data based on the above resampling strategy\n",
        "  over = RandomOverSampler(sampling_strategy=over_dict)\n",
        "  under = RandomUnderSampler(sampling_strategy = under_dict)\n",
        "  pipeline = Pipeline(steps=[('o', over), ('u', under)])\n",
        "  X_resampled, Y_resampled = pipeline.fit_resample(X_train, Y_train)\n",
        "  \n",
        "  # Define logistic regression model and fit it using resampled data\n",
        "  model_log_reg = LogisticRegression()\n",
        "  model_log_reg.fit(X_resampled,Y_resampled)\n",
        "\n",
        "  # Evaluate the performance of the model on resampled data\n",
        "  Y_predicted= model_log_reg.predict(X_resampled)\n",
        "  accuracy = f1_score(Y_resampled, Y_predicted, average = 'macro')\n",
        "  print('Accuracy of Logistic Regression model on sampled dataset with fraction ',frac,': ',accuracy,'\\n')\n",
        "  conf_mat = pd.DataFrame(data=confusion_matrix(Y_resampled, Y_predicted), columns=[\"N_pred\",\"S_pred\",\"F_pred\",\"V_pred\",\"Q_pred\"], index=[\"N_true\",\"S_true\",\"F_true\",\"V_true\",\"Q_true\"])\n",
        "  print(conf_mat.head())\n",
        "\n",
        "  # Evaluate the performance of the model on the full training set\n",
        "  Y_predicted= model_log_reg.predict(X_train)\n",
        "  accuracy = f1_score(Y_train, Y_predicted, average = 'macro')\n",
        "  print('Accuracy of Logistic Regression model on full dataset with fraction ',frac,': ',accuracy,'\\n')\n",
        "  conf_mat = pd.DataFrame(data=confusion_matrix(Y_train, Y_predicted), columns=[\"N_pred\",\"S_pred\",\"F_pred\",\"V_pred\",\"Q_pred\"], index=[\"N_true\",\"S_true\",\"F_true\",\"V_true\",\"Q_true\"])\n",
        "  print(conf_mat.head())\n",
        "\n",
        "  # Return the logistic regression model\n",
        "  return model_log_reg"
      ],
      "execution_count": 26,
      "outputs": []
    },
    {
      "cell_type": "code",
      "metadata": {
        "colab": {
          "base_uri": "https://localhost:8080/"
        },
        "id": "q_2lUGrMpWx7",
        "outputId": "49f7b527-b052-4d5a-dd24-d9eb55722a08"
      },
      "source": [
        "print('Fraction: 0.5')\n",
        "model_log_reg_05 = model_log_reg_sampling(0.5,X_train,Y_train)\n",
        "print('\\n Fraction: 0.7')\n",
        "model_log_reg_07 = model_log_reg_sampling(0.7,X_train,Y_train)\n",
        "print('\\n Fraction: 0.3')\n",
        "model_log_reg_03 = model_log_reg_sampling(0.3,X_train,Y_train)"
      ],
      "execution_count": 29,
      "outputs": [
        {
          "output_type": "stream",
          "name": "stdout",
          "text": [
            "Fraction: 0.5\n",
            "Oversampling strategy:  {0: 87554, 1: 6452, 2: 16799, 3: 1860, 4: 18665}\n",
            "Undersampling strategy:  {0: 43777, 1: 6452, 2: 16799, 3: 1860, 4: 18665}\n",
            "Accuracy of Logistic Regression model on sampled dataset with fraction  0.5 :  0.7363203088671535 \n",
            "\n",
            "        N_pred  S_pred  F_pred  V_pred  Q_pred\n",
            "N_true   39650     309    3080     188     550\n",
            "S_true    2392    3570     399      14      77\n",
            "F_true    4473     203   11298     289     536\n",
            "V_true     887      10     114     845       4\n",
            "Q_true    1259       3     583       0   16820\n",
            "Accuracy of Logistic Regression model on full dataset with fraction  0.5 :  0.6704902370818397 \n",
            "\n",
            "        N_pred  S_pred  F_pred  V_pred  Q_pred\n",
            "N_true   65478     487    5338     305     863\n",
            "S_true     812    1240     146       5      20\n",
            "F_true    1555      72    3876      99     186\n",
            "V_true     306       4      40     290       1\n",
            "Q_true     441       1     196       0    5793\n",
            "\n",
            " Fraction: 0.7\n",
            "Oversampling strategy:  {0: 87554, 1: 9033, 2: 23519, 3: 2605, 4: 26132}\n",
            "Undersampling strategy:  {0: 26266, 1: 3871, 2: 10079, 3: 1116, 4: 11199}\n",
            "Accuracy of Logistic Regression model on sampled dataset with fraction  0.7 :  0.7371375683775432 \n",
            "\n",
            "        N_pred  S_pred  F_pred  V_pred  Q_pred\n",
            "N_true   23711     194    1896     120     345\n",
            "S_true    1361    2214     242      10      44\n",
            "F_true    2589     150    6824     196     320\n",
            "V_true     530       8      75     501       2\n",
            "Q_true     683       2     347       0   10167\n",
            "Accuracy of Logistic Regression model on full dataset with fraction  0.7 :  0.6664856523285245 \n",
            "\n",
            "        N_pred  S_pred  F_pred  V_pred  Q_pred\n",
            "N_true   65330     552    5311     311     967\n",
            "S_true     803    1254     135       7      24\n",
            "F_true    1543      82    3871     100     192\n",
            "V_true     305       5      43     287       1\n",
            "Q_true     425       1     202       0    5803\n",
            "\n",
            " Fraction: 0.3\n",
            "Oversampling strategy:  {0: 87554, 1: 9033, 2: 23519, 3: 2605, 4: 26132}\n",
            "Undersampling strategy:  {0: 61288, 1: 9033, 2: 23519, 3: 2605, 4: 26132}\n",
            "Accuracy of Logistic Regression model on sampled dataset with fraction  0.3 :  0.7395165753494736 \n",
            "\n",
            "        N_pred  S_pred  F_pred  V_pred  Q_pred\n",
            "N_true   55198     428    4605     277     780\n",
            "S_true    3291    5068     577      24      73\n",
            "F_true    6074     291   16022     398     734\n",
            "V_true    1189      16     184    1209       7\n",
            "Q_true    1629       2     858       0   23643\n",
            "Accuracy of Logistic Regression model on full dataset with fraction  0.3 :  0.6704656596730854 \n",
            "\n",
            "        N_pred  S_pred  F_pred  V_pred  Q_pred\n",
            "N_true   65247     518    5463     329     914\n",
            "S_true     807    1245     143       7      21\n",
            "F_true    1503      68    3938     102     177\n",
            "V_true     292       4      43     301       1\n",
            "Q_true     405       1     215       0    5810\n"
          ]
        }
      ]
    },
    {
      "cell_type": "markdown",
      "metadata": {
        "id": "8nUnil4cYFJT"
      },
      "source": [
        "We see that the model had improved performance (as measured using the F1 score) when a combination of under and oversampling was used. The variation in performance was only marginal with different fractions were used and we believe that it can be improved using other methods. "
      ]
    },
    {
      "cell_type": "markdown",
      "metadata": {
        "id": "iWwENnRiZTsD"
      },
      "source": [
        "### Alternative classification models with improved performance"
      ]
    },
    {
      "cell_type": "markdown",
      "metadata": {
        "id": "9EOlk58mWEnS"
      },
      "source": [
        "Having seen that the performance of logistic regression models does not improve significantly through changing the sampling strategy, we will try using one further classifier:\n",
        "\n",
        "*   Random Forests"
      ]
    },
    {
      "cell_type": "code",
      "metadata": {
        "colab": {
          "base_uri": "https://localhost:8080/"
        },
        "id": "qQxaYmE2Wg8W",
        "outputId": "2cbf4982-e448-404a-d8bf-cafe8c5d9b6a"
      },
      "source": [
        "# load library\n",
        "from sklearn.ensemble import RandomForestClassifier\n",
        "\n",
        "rfc = RandomForestClassifier()\n",
        "\n",
        "# Fit the predictor on 5 subsets of training data using stratified K-fold\n",
        "cv = StratifiedKFold(n_splits=5, shuffle=False) \n",
        "cv_score_total = 0\n",
        "ac_score_total = 0\n",
        "kf = 0\n",
        "for train_index, test_index in cv.split(X_train,Y_train):\n",
        "       X1_train, X1_test = X_train.iloc[train_index], X_train.iloc[test_index]\n",
        "       Y1_train, Y1_test = Y_train.iloc[train_index], Y_train.iloc[test_index]\n",
        "       rfc.fit(X1_train, Y1_train)\n",
        "       y_pred = rfc.predict(X1_test)\n",
        "       score = f1_score(Y1_test, y_pred, average='macro')\n",
        "       acc_score = accuracy_score(Y1_test, y_pred)\n",
        "       cv_score_total += score\n",
        "       ac_score_total += acc_score\n",
        "       kf += 1\n",
        "       print('KFold ',kf,' F1 score: ', score)\n",
        "       print('KFold ',kf,' accuracy score: ', acc_score,'\\n\\n')\n",
        "\n",
        "print('Average F1 score: ',cv_score_total/5)\n",
        "print('Average accuracy score: ',ac_score_total/5)\n"
      ],
      "execution_count": 30,
      "outputs": [
        {
          "output_type": "stream",
          "name": "stdout",
          "text": [
            "KFold  1  F1 score:  0.8740851951599236\n",
            "KFold  1  accuracy score:  0.9740734395522814 \n",
            "\n",
            "\n",
            "KFold  2  F1 score:  0.8785397474265617\n",
            "KFold  2  accuracy score:  0.9772714293872423 \n",
            "\n",
            "\n",
            "KFold  3  F1 score:  0.8742630482763014\n",
            "KFold  3  accuracy score:  0.9741876534749586 \n",
            "\n",
            "\n",
            "KFold  4  F1 score:  0.8767277668272142\n",
            "KFold  4  accuracy score:  0.9742447604362972 \n",
            "\n",
            "\n",
            "KFold  5  F1 score:  0.8688270278369433\n",
            "KFold  5  accuracy score:  0.9743003997715591 \n",
            "\n",
            "\n",
            "Average F1 score:  0.8744885571053886\n",
            "Average accuracy score:  0.9748155365244677\n"
          ]
        }
      ]
    },
    {
      "cell_type": "markdown",
      "metadata": {
        "id": "YXp0kPisZbcA"
      },
      "source": [
        "These accuracy scores imply that random forests give improved performance over the logistic regression model. We will now fit the random forest classifier on the full training data to obtain the confusion matrix."
      ]
    },
    {
      "cell_type": "code",
      "metadata": {
        "colab": {
          "base_uri": "https://localhost:8080/"
        },
        "id": "9yBLAAURZZ3m",
        "outputId": "d96e24fd-b705-4ddc-a9d4-f490064243e7"
      },
      "source": [
        "# Initialise Random Forest Classifier\n",
        "rfc = RandomForestClassifier()\n",
        "\n",
        "# Fit to training data\n",
        "rfc.fit(X_train, Y_train)\n",
        "# Predict training data\n",
        "Y_pred = rfc.predict(X_train)\n",
        "# Evaluate performance using F1 and accuracy scores\n",
        "score = f1_score(Y_train, Y_pred, average='macro')\n",
        "acc_score = accuracy_score(Y_train, Y_pred)\n",
        "print('F1 score using random forest classifier: ', score)\n",
        "print('Accuracy score using random forest classifier: ', acc_score,'\\n\\n')\n",
        "# Display confusion matrix\n",
        "conf_mat = pd.DataFrame(data=confusion_matrix(Y_train, Y_predicted), columns=[\"N_pred\",\"S_pred\",\"F_pred\",\"V_pred\",\"Q_pred\"], index=[\"N_true\",\"S_true\",\"F_true\",\"V_true\",\"Q_true\"])\n",
        "print(conf_mat.head())"
      ],
      "execution_count": 32,
      "outputs": [
        {
          "output_type": "stream",
          "name": "stdout",
          "text": [
            "F1 score using random forest classifier:  0.9999536257715272\n",
            "Accuracy score using random forest classifier:  0.9999885784772826 \n",
            "\n",
            "\n",
            "        N_pred  S_pred  F_pred  V_pred  Q_pred\n",
            "N_true   45394    9410   10215    5551    1901\n",
            "S_true     423    1621      90      58      31\n",
            "F_true     547     220    4380     476     165\n",
            "V_true      46       6      35     552       2\n",
            "Q_true     197      29     308      28    5869\n"
          ]
        }
      ]
    },
    {
      "cell_type": "markdown",
      "metadata": {
        "id": "u37IckwibwGe"
      },
      "source": [
        "We note the high performance, which arises because we are predicting based on the full dataset that was used to fit the classsifier\n",
        "\n",
        "We will now apply this fitted classifier to the test data and evaluate its performance."
      ]
    },
    {
      "cell_type": "code",
      "metadata": {
        "colab": {
          "base_uri": "https://localhost:8080/"
        },
        "id": "1TJ6fvfibu0o",
        "outputId": "b7a0cdf3-ba40-42be-e4bc-83f270314cd4"
      },
      "source": [
        "# Predict test data\n",
        "Y_pred = rfc.predict(X_test)\n",
        "# Evaluate performance using F1 and accuracy scores\n",
        "score = f1_score(Y_test, Y_pred, average='macro')\n",
        "acc_score = accuracy_score(Y_test, Y_pred)\n",
        "print('F1 score using random forest classifier: ', score)\n",
        "print('Accuracy score using random forest classifier: ', acc_score,'\\n\\n')\n",
        "# Display confusion matrix\n",
        "conf_mat = pd.DataFrame(data=confusion_matrix(Y_test, Y_pred), columns=[\"N_pred\",\"S_pred\",\"F_pred\",\"V_pred\",\"Q_pred\"], index=[\"N_true\",\"S_true\",\"F_true\",\"V_true\",\"Q_true\"])\n",
        "print(conf_mat.head())"
      ],
      "execution_count": 34,
      "outputs": [
        {
          "output_type": "stream",
          "name": "stdout",
          "text": [
            "F1 score using random forest classifier:  0.8741928320566587\n",
            "Accuracy score using random forest classifier:  0.9750137036360315 \n",
            "\n",
            "\n",
            "        N_pred  S_pred  F_pred  V_pred  Q_pred\n",
            "N_true   18100       6      10       0       2\n",
            "S_true     216     338       1       0       1\n",
            "F_true     145       1    1283      14       5\n",
            "V_true      48       0      12     102       0\n",
            "Q_true      83       0       3       0    1522\n"
          ]
        }
      ]
    },
    {
      "cell_type": "markdown",
      "metadata": {
        "id": "xcUUCqXlcKua"
      },
      "source": [
        "We observe that performance on the data set is comparable with each of the stratified folds, and the main form of error arises from incorrectly classifying abnormal heart beats as normal. \n",
        "\n",
        "Finally, we will examine the most important features that were used in determining the classification."
      ]
    },
    {
      "cell_type": "code",
      "metadata": {
        "colab": {
          "base_uri": "https://localhost:8080/",
          "height": 357
        },
        "id": "XtxHvk28cKTO",
        "outputId": "e6b6f3eb-5600-4ef1-86f2-e3d571c7898a"
      },
      "source": [
        "# Obtain feature importance in a dictionary so that features may be ordered in\n",
        "# decreasing importance\n",
        "important_features_dict = {}\n",
        "for idx, val in enumerate(rfc.feature_importances_):\n",
        "    important_features_dict[idx] = val\n",
        "\n",
        "# Sort feature impotance in descending order\n",
        "forest_importances = pd.Series([val for val in important_features_dict.values()]).sort_values(ascending=False)\n",
        "\n",
        "# Plot feature importance as bar chart\n",
        "fig, ax = plt.subplots(figsize = (25,5))\n",
        "forest_importances[:50].plot.bar(ax=ax)\n",
        "ax.set_xlabel('Feature')\n",
        "ax.set_ylabel(\"Mean decrease in impurity\")\n",
        "fig.tight_layout()"
      ],
      "execution_count": 93,
      "outputs": [
        {
          "output_type": "display_data",
          "data": {
            "image/png": "[encoded data removed]",
            "text/plain": [
              "<Figure size 1800x360 with 1 Axes>"
            ]
          },
          "metadata": {
            "needs_background": "light"
          }
        }
      ]
    },
    {
      "cell_type": "markdown",
      "metadata": {
        "id": "EdzF6t-mjc6b"
      },
      "source": [
        "We see that the first features in each records are the most important in classifying the beat type. However, we note that the maximum value for the mean decrease in impuriy is 0.0417, which is small and there is a slow drop off in decrease of importance. This is likely because of the time series nature of the records. We should finally note that few of the later features are important in the classification, which makes sense as we earlier saw that many of the signals had a string of 0s towards the end."
      ]
    },
    {
      "cell_type": "markdown",
      "metadata": {
        "id": "cOp1dgGoZ5K_"
      },
      "source": [
        "## Final remarks\n",
        "We found that the random forest classifier greatly outperformed the logistic regression model and techniques to resample the training data did not greatly improve the performance of the model.\n",
        "\n",
        "Owing to time constraints, only a small number of classification methods models were attempted and further I did not analyse whether the models were appropriate to apply in this problem. The performance of the classification model can likely be improved using feature engineering, applying different algorithms (e.g. gradient boosting trees, or time series classifying) and tuning parameters."
      ]
    }
  ]
}